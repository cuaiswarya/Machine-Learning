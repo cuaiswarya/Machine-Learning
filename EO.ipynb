{
  "nbformat": 4,
  "nbformat_minor": 0,
  "metadata": {
    "colab": {
      "name": "EO.ipynb",
      "provenance": [],
      "collapsed_sections": [],
      "mount_file_id": "1raXpiMop-_Pc-iDC3qSnZEbP0-PimwVj",
      "authorship_tag": "ABX9TyM2A4nZLBULQduLiTbvLeCP",
      "include_colab_link": true
    },
    "kernelspec": {
      "name": "python3",
      "display_name": "Python 3"
    },
    "language_info": {
      "name": "python"
    }
  },
  "cells": [
    {
      "cell_type": "markdown",
      "metadata": {
        "id": "view-in-github",
        "colab_type": "text"
      },
      "source": [
        "<a href=\"https://colab.research.google.com/github/cuaiswarya/Machine-Learning/blob/main/EO.ipynb\" target=\"_parent\"><img src=\"https://colab.research.google.com/assets/colab-badge.svg\" alt=\"Open In Colab\"/></a>"
      ]
    },
    {
      "cell_type": "code",
      "execution_count": null,
      "metadata": {
        "id": "RmshRyX2ZibY",
        "colab": {
          "base_uri": "https://localhost:8080/"
        },
        "outputId": "3eefa6b5-b9a2-489e-e16c-1b72b80e804a"
      },
      "outputs": [
        {
          "output_type": "stream",
          "name": "stdout",
          "text": [
            "Drive already mounted at /content/drive; to attempt to forcibly remount, call drive.mount(\"/content/drive\", force_remount=True).\n"
          ]
        }
      ],
      "source": [
        "from google.colab import drive\n",
        "drive.mount(\"/content/drive\")"
      ]
    },
    {
      "cell_type": "code",
      "source": [
        "import numpy as np \n",
        "import pandas as pd\n",
        "import matplotlib.pyplot as plt\n",
        "import seaborn as sns\n",
        "from sklearn.model_selection import RandomizedSearchCV, GridSearchCV"
      ],
      "metadata": {
        "id": "M0MIUkpQaF82"
      },
      "execution_count": null,
      "outputs": []
    },
    {
      "cell_type": "code",
      "source": [
        "df = pd.read_csv(\"/content/drive/MyDrive/dataset/EO.csv\")"
      ],
      "metadata": {
        "id": "feEYBLTGawRP"
      },
      "execution_count": null,
      "outputs": []
    },
    {
      "cell_type": "code",
      "source": [
        "df.head()"
      ],
      "metadata": {
        "colab": {
          "base_uri": "https://localhost:8080/",
          "height": 270
        },
        "id": "aX2IXejPbW-U",
        "outputId": "4b51605b-e458-4213-bb4e-c3774280d7f3"
      },
      "execution_count": null,
      "outputs": [
        {
          "output_type": "execute_result",
          "data": {
            "text/html": [
              "\n",
              "  <div id=\"df-236db0aa-6cba-448e-ba66-a1259142423b\">\n",
              "    <div class=\"colab-df-container\">\n",
              "      <div>\n",
              "<style scoped>\n",
              "    .dataframe tbody tr th:only-of-type {\n",
              "        vertical-align: middle;\n",
              "    }\n",
              "\n",
              "    .dataframe tbody tr th {\n",
              "        vertical-align: top;\n",
              "    }\n",
              "\n",
              "    .dataframe thead th {\n",
              "        text-align: right;\n",
              "    }\n",
              "</style>\n",
              "<table border=\"1\" class=\"dataframe\">\n",
              "  <thead>\n",
              "    <tr style=\"text-align: right;\">\n",
              "      <th></th>\n",
              "      <th>Lon</th>\n",
              "      <th>Lat</th>\n",
              "      <th>Band 2</th>\n",
              "      <th>Band 3</th>\n",
              "      <th>Band 4</th>\n",
              "      <th>Band 5</th>\n",
              "      <th>Band 6</th>\n",
              "      <th>Band 7</th>\n",
              "      <th>Band 8</th>\n",
              "      <th>Band 9</th>\n",
              "      <th>Band 10</th>\n",
              "      <th>Band 11</th>\n",
              "      <th>Band 12</th>\n",
              "      <th>Band 13</th>\n",
              "      <th>Band 14</th>\n",
              "      <th>Band 15</th>\n",
              "      <th>Band 16</th>\n",
              "      <th>Band 17</th>\n",
              "      <th>Band 18</th>\n",
              "      <th>Band 19</th>\n",
              "      <th>Band 20</th>\n",
              "      <th>Band 21</th>\n",
              "      <th>Band 22</th>\n",
              "      <th>Band 23</th>\n",
              "      <th>Band 24</th>\n",
              "      <th>Band 25</th>\n",
              "      <th>Band 26</th>\n",
              "      <th>Band 27</th>\n",
              "      <th>Band 28</th>\n",
              "      <th>Band 29</th>\n",
              "      <th>Band 30</th>\n",
              "      <th>Band 31</th>\n",
              "      <th>Band 32</th>\n",
              "      <th>Band 33</th>\n",
              "      <th>Band 34</th>\n",
              "      <th>Band 35</th>\n",
              "      <th>Band 36</th>\n",
              "      <th>Band 37</th>\n",
              "      <th>PM2.5</th>\n",
              "    </tr>\n",
              "  </thead>\n",
              "  <tbody>\n",
              "    <tr>\n",
              "      <th>0</th>\n",
              "      <td>77.316</td>\n",
              "      <td>28.647</td>\n",
              "      <td>0.090883</td>\n",
              "      <td>0.083848</td>\n",
              "      <td>0.093156</td>\n",
              "      <td>0.091905</td>\n",
              "      <td>0.092790</td>\n",
              "      <td>0.094652</td>\n",
              "      <td>0.095766</td>\n",
              "      <td>0.102050</td>\n",
              "      <td>0.104160</td>\n",
              "      <td>0.105550</td>\n",
              "      <td>0.105420</td>\n",
              "      <td>0.108030</td>\n",
              "      <td>0.109350</td>\n",
              "      <td>0.114890</td>\n",
              "      <td>0.117810</td>\n",
              "      <td>0.120200</td>\n",
              "      <td>0.127090</td>\n",
              "      <td>0.127580</td>\n",
              "      <td>0.130540</td>\n",
              "      <td>0.131650</td>\n",
              "      <td>0.133670</td>\n",
              "      <td>0.141510</td>\n",
              "      <td>0.141820</td>\n",
              "      <td>0.139360</td>\n",
              "      <td>0.148560</td>\n",
              "      <td>0.154360</td>\n",
              "      <td>0.156760</td>\n",
              "      <td>0.157320</td>\n",
              "      <td>0.159170</td>\n",
              "      <td>0.154280</td>\n",
              "      <td>0.152640</td>\n",
              "      <td>0.158650</td>\n",
              "      <td>0.158630</td>\n",
              "      <td>0.162010</td>\n",
              "      <td>0.159170</td>\n",
              "      <td>0.162220</td>\n",
              "      <td>30.111</td>\n",
              "    </tr>\n",
              "    <tr>\n",
              "      <th>1</th>\n",
              "      <td>77.182</td>\n",
              "      <td>28.695</td>\n",
              "      <td>0.031495</td>\n",
              "      <td>0.029313</td>\n",
              "      <td>0.027970</td>\n",
              "      <td>0.037324</td>\n",
              "      <td>0.043107</td>\n",
              "      <td>0.043305</td>\n",
              "      <td>0.044099</td>\n",
              "      <td>0.040635</td>\n",
              "      <td>0.047395</td>\n",
              "      <td>0.045655</td>\n",
              "      <td>0.043793</td>\n",
              "      <td>0.049332</td>\n",
              "      <td>0.049973</td>\n",
              "      <td>0.057862</td>\n",
              "      <td>0.060761</td>\n",
              "      <td>0.071168</td>\n",
              "      <td>0.081956</td>\n",
              "      <td>0.084581</td>\n",
              "      <td>0.090272</td>\n",
              "      <td>0.090852</td>\n",
              "      <td>0.086183</td>\n",
              "      <td>0.086763</td>\n",
              "      <td>0.084062</td>\n",
              "      <td>0.074342</td>\n",
              "      <td>0.079179</td>\n",
              "      <td>0.078080</td>\n",
              "      <td>0.075502</td>\n",
              "      <td>0.077195</td>\n",
              "      <td>0.075410</td>\n",
              "      <td>0.070756</td>\n",
              "      <td>0.067414</td>\n",
              "      <td>0.069688</td>\n",
              "      <td>0.070100</td>\n",
              "      <td>0.072587</td>\n",
              "      <td>0.079835</td>\n",
              "      <td>0.101300</td>\n",
              "      <td>27.000</td>\n",
              "    </tr>\n",
              "    <tr>\n",
              "      <th>2</th>\n",
              "      <td>77.051</td>\n",
              "      <td>28.776</td>\n",
              "      <td>0.013993</td>\n",
              "      <td>0.007401</td>\n",
              "      <td>0.008331</td>\n",
              "      <td>0.015229</td>\n",
              "      <td>0.025208</td>\n",
              "      <td>0.028733</td>\n",
              "      <td>0.023560</td>\n",
              "      <td>0.021820</td>\n",
              "      <td>0.024094</td>\n",
              "      <td>0.027771</td>\n",
              "      <td>0.024903</td>\n",
              "      <td>0.027955</td>\n",
              "      <td>0.028153</td>\n",
              "      <td>0.034470</td>\n",
              "      <td>0.033219</td>\n",
              "      <td>0.039948</td>\n",
              "      <td>0.048356</td>\n",
              "      <td>0.052522</td>\n",
              "      <td>0.054154</td>\n",
              "      <td>0.055589</td>\n",
              "      <td>0.055680</td>\n",
              "      <td>0.055634</td>\n",
              "      <td>0.053391</td>\n",
              "      <td>0.047166</td>\n",
              "      <td>0.051698</td>\n",
              "      <td>0.051087</td>\n",
              "      <td>0.048875</td>\n",
              "      <td>0.050401</td>\n",
              "      <td>0.049638</td>\n",
              "      <td>0.045975</td>\n",
              "      <td>0.039643</td>\n",
              "      <td>0.043610</td>\n",
              "      <td>0.042496</td>\n",
              "      <td>0.044099</td>\n",
              "      <td>0.051759</td>\n",
              "      <td>0.074968</td>\n",
              "      <td>78.889</td>\n",
              "    </tr>\n",
              "    <tr>\n",
              "      <th>3</th>\n",
              "      <td>77.274</td>\n",
              "      <td>28.551</td>\n",
              "      <td>0.038437</td>\n",
              "      <td>0.034668</td>\n",
              "      <td>0.035813</td>\n",
              "      <td>0.027420</td>\n",
              "      <td>0.027146</td>\n",
              "      <td>0.035203</td>\n",
              "      <td>0.035477</td>\n",
              "      <td>0.034653</td>\n",
              "      <td>0.032670</td>\n",
              "      <td>0.035218</td>\n",
              "      <td>0.035630</td>\n",
              "      <td>0.035981</td>\n",
              "      <td>0.034257</td>\n",
              "      <td>0.040314</td>\n",
              "      <td>0.043336</td>\n",
              "      <td>0.048219</td>\n",
              "      <td>0.054017</td>\n",
              "      <td>0.057084</td>\n",
              "      <td>0.060136</td>\n",
              "      <td>0.060609</td>\n",
              "      <td>0.057053</td>\n",
              "      <td>0.058793</td>\n",
              "      <td>0.056214</td>\n",
              "      <td>0.053880</td>\n",
              "      <td>0.058656</td>\n",
              "      <td>0.059190</td>\n",
              "      <td>0.057145</td>\n",
              "      <td>0.058259</td>\n",
              "      <td>0.058549</td>\n",
              "      <td>0.055451</td>\n",
              "      <td>0.051774</td>\n",
              "      <td>0.053147</td>\n",
              "      <td>0.053056</td>\n",
              "      <td>0.055955</td>\n",
              "      <td>0.064256</td>\n",
              "      <td>0.085344</td>\n",
              "      <td>29.348</td>\n",
              "    </tr>\n",
              "    <tr>\n",
              "      <th>4</th>\n",
              "      <td>77.227</td>\n",
              "      <td>28.657</td>\n",
              "      <td>0.082719</td>\n",
              "      <td>0.074464</td>\n",
              "      <td>0.081239</td>\n",
              "      <td>0.083482</td>\n",
              "      <td>0.088746</td>\n",
              "      <td>0.089982</td>\n",
              "      <td>0.093370</td>\n",
              "      <td>0.093568</td>\n",
              "      <td>0.099443</td>\n",
              "      <td>0.100360</td>\n",
              "      <td>0.100740</td>\n",
              "      <td>0.102860</td>\n",
              "      <td>0.104140</td>\n",
              "      <td>0.111310</td>\n",
              "      <td>0.108480</td>\n",
              "      <td>0.115310</td>\n",
              "      <td>0.121720</td>\n",
              "      <td>0.123930</td>\n",
              "      <td>0.125580</td>\n",
              "      <td>0.128050</td>\n",
              "      <td>0.131500</td>\n",
              "      <td>0.140430</td>\n",
              "      <td>0.140990</td>\n",
              "      <td>0.136400</td>\n",
              "      <td>0.147830</td>\n",
              "      <td>0.150420</td>\n",
              "      <td>0.151110</td>\n",
              "      <td>0.152790</td>\n",
              "      <td>0.153630</td>\n",
              "      <td>0.147740</td>\n",
              "      <td>0.146880</td>\n",
              "      <td>0.152640</td>\n",
              "      <td>0.152610</td>\n",
              "      <td>0.153440</td>\n",
              "      <td>0.154070</td>\n",
              "      <td>0.160390</td>\n",
              "      <td>24.500</td>\n",
              "    </tr>\n",
              "  </tbody>\n",
              "</table>\n",
              "</div>\n",
              "      <button class=\"colab-df-convert\" onclick=\"convertToInteractive('df-236db0aa-6cba-448e-ba66-a1259142423b')\"\n",
              "              title=\"Convert this dataframe to an interactive table.\"\n",
              "              style=\"display:none;\">\n",
              "        \n",
              "  <svg xmlns=\"http://www.w3.org/2000/svg\" height=\"24px\"viewBox=\"0 0 24 24\"\n",
              "       width=\"24px\">\n",
              "    <path d=\"M0 0h24v24H0V0z\" fill=\"none\"/>\n",
              "    <path d=\"M18.56 5.44l.94 2.06.94-2.06 2.06-.94-2.06-.94-.94-2.06-.94 2.06-2.06.94zm-11 1L8.5 8.5l.94-2.06 2.06-.94-2.06-.94L8.5 2.5l-.94 2.06-2.06.94zm10 10l.94 2.06.94-2.06 2.06-.94-2.06-.94-.94-2.06-.94 2.06-2.06.94z\"/><path d=\"M17.41 7.96l-1.37-1.37c-.4-.4-.92-.59-1.43-.59-.52 0-1.04.2-1.43.59L10.3 9.45l-7.72 7.72c-.78.78-.78 2.05 0 2.83L4 21.41c.39.39.9.59 1.41.59.51 0 1.02-.2 1.41-.59l7.78-7.78 2.81-2.81c.8-.78.8-2.07 0-2.86zM5.41 20L4 18.59l7.72-7.72 1.47 1.35L5.41 20z\"/>\n",
              "  </svg>\n",
              "      </button>\n",
              "      \n",
              "  <style>\n",
              "    .colab-df-container {\n",
              "      display:flex;\n",
              "      flex-wrap:wrap;\n",
              "      gap: 12px;\n",
              "    }\n",
              "\n",
              "    .colab-df-convert {\n",
              "      background-color: #E8F0FE;\n",
              "      border: none;\n",
              "      border-radius: 50%;\n",
              "      cursor: pointer;\n",
              "      display: none;\n",
              "      fill: #1967D2;\n",
              "      height: 32px;\n",
              "      padding: 0 0 0 0;\n",
              "      width: 32px;\n",
              "    }\n",
              "\n",
              "    .colab-df-convert:hover {\n",
              "      background-color: #E2EBFA;\n",
              "      box-shadow: 0px 1px 2px rgba(60, 64, 67, 0.3), 0px 1px 3px 1px rgba(60, 64, 67, 0.15);\n",
              "      fill: #174EA6;\n",
              "    }\n",
              "\n",
              "    [theme=dark] .colab-df-convert {\n",
              "      background-color: #3B4455;\n",
              "      fill: #D2E3FC;\n",
              "    }\n",
              "\n",
              "    [theme=dark] .colab-df-convert:hover {\n",
              "      background-color: #434B5C;\n",
              "      box-shadow: 0px 1px 3px 1px rgba(0, 0, 0, 0.15);\n",
              "      filter: drop-shadow(0px 1px 2px rgba(0, 0, 0, 0.3));\n",
              "      fill: #FFFFFF;\n",
              "    }\n",
              "  </style>\n",
              "\n",
              "      <script>\n",
              "        const buttonEl =\n",
              "          document.querySelector('#df-236db0aa-6cba-448e-ba66-a1259142423b button.colab-df-convert');\n",
              "        buttonEl.style.display =\n",
              "          google.colab.kernel.accessAllowed ? 'block' : 'none';\n",
              "\n",
              "        async function convertToInteractive(key) {\n",
              "          const element = document.querySelector('#df-236db0aa-6cba-448e-ba66-a1259142423b');\n",
              "          const dataTable =\n",
              "            await google.colab.kernel.invokeFunction('convertToInteractive',\n",
              "                                                     [key], {});\n",
              "          if (!dataTable) return;\n",
              "\n",
              "          const docLinkHtml = 'Like what you see? Visit the ' +\n",
              "            '<a target=\"_blank\" href=https://colab.research.google.com/notebooks/data_table.ipynb>data table notebook</a>'\n",
              "            + ' to learn more about interactive tables.';\n",
              "          element.innerHTML = '';\n",
              "          dataTable['output_type'] = 'display_data';\n",
              "          await google.colab.output.renderOutput(dataTable, element);\n",
              "          const docLink = document.createElement('div');\n",
              "          docLink.innerHTML = docLinkHtml;\n",
              "          element.appendChild(docLink);\n",
              "        }\n",
              "      </script>\n",
              "    </div>\n",
              "  </div>\n",
              "  "
            ],
            "text/plain": [
              "      Lon     Lat    Band 2    Band 3  ...   Band 35   Band 36   Band 37   PM2.5\n",
              "0  77.316  28.647  0.090883  0.083848  ...  0.162010  0.159170  0.162220  30.111\n",
              "1  77.182  28.695  0.031495  0.029313  ...  0.072587  0.079835  0.101300  27.000\n",
              "2  77.051  28.776  0.013993  0.007401  ...  0.044099  0.051759  0.074968  78.889\n",
              "3  77.274  28.551  0.038437  0.034668  ...  0.055955  0.064256  0.085344  29.348\n",
              "4  77.227  28.657  0.082719  0.074464  ...  0.153440  0.154070  0.160390  24.500\n",
              "\n",
              "[5 rows x 39 columns]"
            ]
          },
          "metadata": {},
          "execution_count": 4
        }
      ]
    },
    {
      "cell_type": "code",
      "source": [
        "df.shape"
      ],
      "metadata": {
        "colab": {
          "base_uri": "https://localhost:8080/"
        },
        "id": "2jBW-_KYckbC",
        "outputId": "154f9399-bf68-41d8-c393-a4b6bc18b9f9"
      },
      "execution_count": null,
      "outputs": [
        {
          "output_type": "execute_result",
          "data": {
            "text/plain": [
              "(4090, 39)"
            ]
          },
          "metadata": {},
          "execution_count": 5
        }
      ]
    },
    {
      "cell_type": "code",
      "source": [
        "df.info()"
      ],
      "metadata": {
        "id": "0zflPdE-7rIn",
        "colab": {
          "base_uri": "https://localhost:8080/"
        },
        "outputId": "3dc4cd94-d012-444f-da98-454c23202a90"
      },
      "execution_count": null,
      "outputs": [
        {
          "output_type": "stream",
          "name": "stdout",
          "text": [
            "<class 'pandas.core.frame.DataFrame'>\n",
            "RangeIndex: 4090 entries, 0 to 4089\n",
            "Data columns (total 39 columns):\n",
            " #   Column   Non-Null Count  Dtype  \n",
            "---  ------   --------------  -----  \n",
            " 0   Lon      4090 non-null   float64\n",
            " 1   Lat      4090 non-null   float64\n",
            " 2   Band 2   4090 non-null   float64\n",
            " 3   Band 3   4090 non-null   float64\n",
            " 4   Band 4   4090 non-null   float64\n",
            " 5   Band 5   4090 non-null   float64\n",
            " 6   Band 6   4090 non-null   float64\n",
            " 7   Band 7   4090 non-null   float64\n",
            " 8   Band 8   4090 non-null   float64\n",
            " 9   Band 9   4090 non-null   float64\n",
            " 10  Band 10  4090 non-null   float64\n",
            " 11  Band 11  4090 non-null   float64\n",
            " 12  Band 12  4090 non-null   float64\n",
            " 13  Band 13  4090 non-null   float64\n",
            " 14  Band 14  4090 non-null   float64\n",
            " 15  Band 15  4090 non-null   float64\n",
            " 16  Band 16  4090 non-null   float64\n",
            " 17  Band 17  4090 non-null   float64\n",
            " 18  Band 18  4090 non-null   float64\n",
            " 19  Band 19  4090 non-null   float64\n",
            " 20  Band 20  4090 non-null   float64\n",
            " 21  Band 21  4090 non-null   float64\n",
            " 22  Band 22  4090 non-null   float64\n",
            " 23  Band 23  4090 non-null   float64\n",
            " 24  Band 24  4090 non-null   float64\n",
            " 25  Band 25  4090 non-null   float64\n",
            " 26  Band 26  4090 non-null   float64\n",
            " 27  Band 27  4090 non-null   float64\n",
            " 28  Band 28  4090 non-null   float64\n",
            " 29  Band 29  4090 non-null   float64\n",
            " 30  Band 30  4090 non-null   float64\n",
            " 31  Band 31  4090 non-null   float64\n",
            " 32  Band 32  4090 non-null   float64\n",
            " 33  Band 33  4090 non-null   float64\n",
            " 34  Band 34  4090 non-null   float64\n",
            " 35  Band 35  4090 non-null   float64\n",
            " 36  Band 36  4090 non-null   float64\n",
            " 37  Band 37  4090 non-null   float64\n",
            " 38  PM2.5    4090 non-null   float64\n",
            "dtypes: float64(39)\n",
            "memory usage: 1.2 MB\n"
          ]
        }
      ]
    },
    {
      "cell_type": "code",
      "source": [
        "df.describe()"
      ],
      "metadata": {
        "id": "WC2p7W0F79ZB",
        "colab": {
          "base_uri": "https://localhost:8080/",
          "height": 364
        },
        "outputId": "4d249ced-ac55-4ee8-f4c8-e655b473abea"
      },
      "execution_count": null,
      "outputs": [
        {
          "output_type": "execute_result",
          "data": {
            "text/html": [
              "\n",
              "  <div id=\"df-7c0078c7-8407-4aaf-8ba9-6fe4042eb291\">\n",
              "    <div class=\"colab-df-container\">\n",
              "      <div>\n",
              "<style scoped>\n",
              "    .dataframe tbody tr th:only-of-type {\n",
              "        vertical-align: middle;\n",
              "    }\n",
              "\n",
              "    .dataframe tbody tr th {\n",
              "        vertical-align: top;\n",
              "    }\n",
              "\n",
              "    .dataframe thead th {\n",
              "        text-align: right;\n",
              "    }\n",
              "</style>\n",
              "<table border=\"1\" class=\"dataframe\">\n",
              "  <thead>\n",
              "    <tr style=\"text-align: right;\">\n",
              "      <th></th>\n",
              "      <th>Lon</th>\n",
              "      <th>Lat</th>\n",
              "      <th>Band 2</th>\n",
              "      <th>Band 3</th>\n",
              "      <th>Band 4</th>\n",
              "      <th>Band 5</th>\n",
              "      <th>Band 6</th>\n",
              "      <th>Band 7</th>\n",
              "      <th>Band 8</th>\n",
              "      <th>Band 9</th>\n",
              "      <th>Band 10</th>\n",
              "      <th>Band 11</th>\n",
              "      <th>Band 12</th>\n",
              "      <th>Band 13</th>\n",
              "      <th>Band 14</th>\n",
              "      <th>Band 15</th>\n",
              "      <th>Band 16</th>\n",
              "      <th>Band 17</th>\n",
              "      <th>Band 18</th>\n",
              "      <th>Band 19</th>\n",
              "      <th>Band 20</th>\n",
              "      <th>Band 21</th>\n",
              "      <th>Band 22</th>\n",
              "      <th>Band 23</th>\n",
              "      <th>Band 24</th>\n",
              "      <th>Band 25</th>\n",
              "      <th>Band 26</th>\n",
              "      <th>Band 27</th>\n",
              "      <th>Band 28</th>\n",
              "      <th>Band 29</th>\n",
              "      <th>Band 30</th>\n",
              "      <th>Band 31</th>\n",
              "      <th>Band 32</th>\n",
              "      <th>Band 33</th>\n",
              "      <th>Band 34</th>\n",
              "      <th>Band 35</th>\n",
              "      <th>Band 36</th>\n",
              "      <th>Band 37</th>\n",
              "      <th>PM2.5</th>\n",
              "    </tr>\n",
              "  </thead>\n",
              "  <tbody>\n",
              "    <tr>\n",
              "      <th>count</th>\n",
              "      <td>4090.000000</td>\n",
              "      <td>4090.000000</td>\n",
              "      <td>4090.000000</td>\n",
              "      <td>4090.000000</td>\n",
              "      <td>4090.000000</td>\n",
              "      <td>4090.000000</td>\n",
              "      <td>4090.000000</td>\n",
              "      <td>4090.000000</td>\n",
              "      <td>4090.000000</td>\n",
              "      <td>4090.000000</td>\n",
              "      <td>4090.000000</td>\n",
              "      <td>4090.000000</td>\n",
              "      <td>4090.000000</td>\n",
              "      <td>4090.000000</td>\n",
              "      <td>4090.000000</td>\n",
              "      <td>4090.000000</td>\n",
              "      <td>4090.000000</td>\n",
              "      <td>4090.000000</td>\n",
              "      <td>4090.000000</td>\n",
              "      <td>4090.000000</td>\n",
              "      <td>4090.000000</td>\n",
              "      <td>4090.000000</td>\n",
              "      <td>4090.000000</td>\n",
              "      <td>4090.000000</td>\n",
              "      <td>4090.000000</td>\n",
              "      <td>4090.000000</td>\n",
              "      <td>4090.000000</td>\n",
              "      <td>4090.000000</td>\n",
              "      <td>4090.000000</td>\n",
              "      <td>4090.000000</td>\n",
              "      <td>4090.000000</td>\n",
              "      <td>4090.000000</td>\n",
              "      <td>4090.000000</td>\n",
              "      <td>4090.000000</td>\n",
              "      <td>4090.000000</td>\n",
              "      <td>4090.000000</td>\n",
              "      <td>4090.000000</td>\n",
              "      <td>4090.000000</td>\n",
              "      <td>4090.000000</td>\n",
              "    </tr>\n",
              "    <tr>\n",
              "      <th>mean</th>\n",
              "      <td>77.193528</td>\n",
              "      <td>28.632084</td>\n",
              "      <td>0.044530</td>\n",
              "      <td>0.040157</td>\n",
              "      <td>0.042903</td>\n",
              "      <td>0.044219</td>\n",
              "      <td>0.049258</td>\n",
              "      <td>0.051393</td>\n",
              "      <td>0.052292</td>\n",
              "      <td>0.051251</td>\n",
              "      <td>0.052860</td>\n",
              "      <td>0.056600</td>\n",
              "      <td>0.054494</td>\n",
              "      <td>0.058087</td>\n",
              "      <td>0.058923</td>\n",
              "      <td>0.064813</td>\n",
              "      <td>0.065386</td>\n",
              "      <td>0.072229</td>\n",
              "      <td>0.078727</td>\n",
              "      <td>0.081828</td>\n",
              "      <td>0.085947</td>\n",
              "      <td>0.086835</td>\n",
              "      <td>0.086994</td>\n",
              "      <td>0.090896</td>\n",
              "      <td>0.090007</td>\n",
              "      <td>0.085170</td>\n",
              "      <td>0.092539</td>\n",
              "      <td>0.094751</td>\n",
              "      <td>0.093432</td>\n",
              "      <td>0.095526</td>\n",
              "      <td>0.096101</td>\n",
              "      <td>0.091616</td>\n",
              "      <td>0.088440</td>\n",
              "      <td>0.092755</td>\n",
              "      <td>0.092741</td>\n",
              "      <td>0.094825</td>\n",
              "      <td>0.099804</td>\n",
              "      <td>0.117293</td>\n",
              "      <td>30.528403</td>\n",
              "    </tr>\n",
              "    <tr>\n",
              "      <th>std</th>\n",
              "      <td>0.074616</td>\n",
              "      <td>0.067689</td>\n",
              "      <td>0.021620</td>\n",
              "      <td>0.022628</td>\n",
              "      <td>0.024088</td>\n",
              "      <td>0.024075</td>\n",
              "      <td>0.024441</td>\n",
              "      <td>0.025804</td>\n",
              "      <td>0.026327</td>\n",
              "      <td>0.026903</td>\n",
              "      <td>0.028060</td>\n",
              "      <td>0.028655</td>\n",
              "      <td>0.029016</td>\n",
              "      <td>0.029793</td>\n",
              "      <td>0.030090</td>\n",
              "      <td>0.030770</td>\n",
              "      <td>0.029694</td>\n",
              "      <td>0.029567</td>\n",
              "      <td>0.029810</td>\n",
              "      <td>0.029499</td>\n",
              "      <td>0.029969</td>\n",
              "      <td>0.030037</td>\n",
              "      <td>0.031268</td>\n",
              "      <td>0.033592</td>\n",
              "      <td>0.034605</td>\n",
              "      <td>0.034026</td>\n",
              "      <td>0.036372</td>\n",
              "      <td>0.037609</td>\n",
              "      <td>0.038167</td>\n",
              "      <td>0.039096</td>\n",
              "      <td>0.039848</td>\n",
              "      <td>0.039473</td>\n",
              "      <td>0.039372</td>\n",
              "      <td>0.042125</td>\n",
              "      <td>0.042579</td>\n",
              "      <td>0.042247</td>\n",
              "      <td>0.038466</td>\n",
              "      <td>0.032739</td>\n",
              "      <td>12.798978</td>\n",
              "    </tr>\n",
              "    <tr>\n",
              "      <th>min</th>\n",
              "      <td>77.031000</td>\n",
              "      <td>28.497000</td>\n",
              "      <td>0.002853</td>\n",
              "      <td>0.000351</td>\n",
              "      <td>0.001129</td>\n",
              "      <td>0.002319</td>\n",
              "      <td>0.004715</td>\n",
              "      <td>0.006683</td>\n",
              "      <td>0.007752</td>\n",
              "      <td>0.003296</td>\n",
              "      <td>0.004883</td>\n",
              "      <td>0.006683</td>\n",
              "      <td>0.003586</td>\n",
              "      <td>0.003906</td>\n",
              "      <td>0.005875</td>\n",
              "      <td>0.012360</td>\n",
              "      <td>0.014252</td>\n",
              "      <td>0.021195</td>\n",
              "      <td>0.027344</td>\n",
              "      <td>0.031037</td>\n",
              "      <td>0.033555</td>\n",
              "      <td>0.032746</td>\n",
              "      <td>0.031434</td>\n",
              "      <td>0.031067</td>\n",
              "      <td>0.027451</td>\n",
              "      <td>0.023835</td>\n",
              "      <td>0.027848</td>\n",
              "      <td>0.027695</td>\n",
              "      <td>0.024018</td>\n",
              "      <td>0.026551</td>\n",
              "      <td>0.026078</td>\n",
              "      <td>0.022019</td>\n",
              "      <td>0.019669</td>\n",
              "      <td>0.018891</td>\n",
              "      <td>0.018708</td>\n",
              "      <td>0.021988</td>\n",
              "      <td>0.033371</td>\n",
              "      <td>0.046387</td>\n",
              "      <td>1.447100</td>\n",
              "    </tr>\n",
              "    <tr>\n",
              "      <th>25%</th>\n",
              "      <td>77.146000</td>\n",
              "      <td>28.571000</td>\n",
              "      <td>0.027939</td>\n",
              "      <td>0.021851</td>\n",
              "      <td>0.024125</td>\n",
              "      <td>0.024399</td>\n",
              "      <td>0.029755</td>\n",
              "      <td>0.030304</td>\n",
              "      <td>0.031006</td>\n",
              "      <td>0.029664</td>\n",
              "      <td>0.030701</td>\n",
              "      <td>0.033783</td>\n",
              "      <td>0.030991</td>\n",
              "      <td>0.035142</td>\n",
              "      <td>0.035309</td>\n",
              "      <td>0.040223</td>\n",
              "      <td>0.041810</td>\n",
              "      <td>0.049607</td>\n",
              "      <td>0.056809</td>\n",
              "      <td>0.060014</td>\n",
              "      <td>0.064347</td>\n",
              "      <td>0.064637</td>\n",
              "      <td>0.063565</td>\n",
              "      <td>0.065583</td>\n",
              "      <td>0.064240</td>\n",
              "      <td>0.058457</td>\n",
              "      <td>0.064195</td>\n",
              "      <td>0.065126</td>\n",
              "      <td>0.064179</td>\n",
              "      <td>0.065461</td>\n",
              "      <td>0.065095</td>\n",
              "      <td>0.060838</td>\n",
              "      <td>0.057969</td>\n",
              "      <td>0.060014</td>\n",
              "      <td>0.060105</td>\n",
              "      <td>0.062257</td>\n",
              "      <td>0.070222</td>\n",
              "      <td>0.093019</td>\n",
              "      <td>23.333000</td>\n",
              "    </tr>\n",
              "    <tr>\n",
              "      <th>50%</th>\n",
              "      <td>77.200000</td>\n",
              "      <td>28.638000</td>\n",
              "      <td>0.042512</td>\n",
              "      <td>0.037797</td>\n",
              "      <td>0.040223</td>\n",
              "      <td>0.041199</td>\n",
              "      <td>0.045014</td>\n",
              "      <td>0.048035</td>\n",
              "      <td>0.047929</td>\n",
              "      <td>0.047166</td>\n",
              "      <td>0.048646</td>\n",
              "      <td>0.052293</td>\n",
              "      <td>0.050523</td>\n",
              "      <td>0.052964</td>\n",
              "      <td>0.054612</td>\n",
              "      <td>0.060410</td>\n",
              "      <td>0.061021</td>\n",
              "      <td>0.068757</td>\n",
              "      <td>0.074617</td>\n",
              "      <td>0.078309</td>\n",
              "      <td>0.081865</td>\n",
              "      <td>0.082750</td>\n",
              "      <td>0.082078</td>\n",
              "      <td>0.086286</td>\n",
              "      <td>0.086076</td>\n",
              "      <td>0.081636</td>\n",
              "      <td>0.089036</td>\n",
              "      <td>0.091753</td>\n",
              "      <td>0.090486</td>\n",
              "      <td>0.092920</td>\n",
              "      <td>0.093736</td>\n",
              "      <td>0.088396</td>\n",
              "      <td>0.085954</td>\n",
              "      <td>0.089799</td>\n",
              "      <td>0.089693</td>\n",
              "      <td>0.093233</td>\n",
              "      <td>0.095888</td>\n",
              "      <td>0.113590</td>\n",
              "      <td>27.251000</td>\n",
              "    </tr>\n",
              "    <tr>\n",
              "      <th>75%</th>\n",
              "      <td>77.250000</td>\n",
              "      <td>28.681000</td>\n",
              "      <td>0.059449</td>\n",
              "      <td>0.055589</td>\n",
              "      <td>0.058518</td>\n",
              "      <td>0.061860</td>\n",
              "      <td>0.067712</td>\n",
              "      <td>0.071260</td>\n",
              "      <td>0.073121</td>\n",
              "      <td>0.071095</td>\n",
              "      <td>0.074189</td>\n",
              "      <td>0.077790</td>\n",
              "      <td>0.075914</td>\n",
              "      <td>0.080278</td>\n",
              "      <td>0.081071</td>\n",
              "      <td>0.087037</td>\n",
              "      <td>0.086076</td>\n",
              "      <td>0.091890</td>\n",
              "      <td>0.097948</td>\n",
              "      <td>0.100570</td>\n",
              "      <td>0.103940</td>\n",
              "      <td>0.105930</td>\n",
              "      <td>0.107300</td>\n",
              "      <td>0.113950</td>\n",
              "      <td>0.114240</td>\n",
              "      <td>0.108450</td>\n",
              "      <td>0.118040</td>\n",
              "      <td>0.121030</td>\n",
              "      <td>0.120470</td>\n",
              "      <td>0.123370</td>\n",
              "      <td>0.124410</td>\n",
              "      <td>0.119890</td>\n",
              "      <td>0.116870</td>\n",
              "      <td>0.123200</td>\n",
              "      <td>0.122970</td>\n",
              "      <td>0.124485</td>\n",
              "      <td>0.125840</td>\n",
              "      <td>0.135520</td>\n",
              "      <td>34.784000</td>\n",
              "    </tr>\n",
              "    <tr>\n",
              "      <th>max</th>\n",
              "      <td>77.318000</td>\n",
              "      <td>28.778000</td>\n",
              "      <td>0.163850</td>\n",
              "      <td>0.162260</td>\n",
              "      <td>0.163760</td>\n",
              "      <td>0.157410</td>\n",
              "      <td>0.159500</td>\n",
              "      <td>0.168550</td>\n",
              "      <td>0.170660</td>\n",
              "      <td>0.176390</td>\n",
              "      <td>0.181120</td>\n",
              "      <td>0.187700</td>\n",
              "      <td>0.190830</td>\n",
              "      <td>0.199190</td>\n",
              "      <td>0.206900</td>\n",
              "      <td>0.222320</td>\n",
              "      <td>0.230980</td>\n",
              "      <td>0.248200</td>\n",
              "      <td>0.265710</td>\n",
              "      <td>0.271530</td>\n",
              "      <td>0.273550</td>\n",
              "      <td>0.270920</td>\n",
              "      <td>0.266610</td>\n",
              "      <td>0.271140</td>\n",
              "      <td>0.263650</td>\n",
              "      <td>0.252160</td>\n",
              "      <td>0.267860</td>\n",
              "      <td>0.272010</td>\n",
              "      <td>0.271820</td>\n",
              "      <td>0.280540</td>\n",
              "      <td>0.287560</td>\n",
              "      <td>0.283820</td>\n",
              "      <td>0.287070</td>\n",
              "      <td>0.307500</td>\n",
              "      <td>0.315280</td>\n",
              "      <td>0.322910</td>\n",
              "      <td>0.322390</td>\n",
              "      <td>0.338600</td>\n",
              "      <td>78.889000</td>\n",
              "    </tr>\n",
              "  </tbody>\n",
              "</table>\n",
              "</div>\n",
              "      <button class=\"colab-df-convert\" onclick=\"convertToInteractive('df-7c0078c7-8407-4aaf-8ba9-6fe4042eb291')\"\n",
              "              title=\"Convert this dataframe to an interactive table.\"\n",
              "              style=\"display:none;\">\n",
              "        \n",
              "  <svg xmlns=\"http://www.w3.org/2000/svg\" height=\"24px\"viewBox=\"0 0 24 24\"\n",
              "       width=\"24px\">\n",
              "    <path d=\"M0 0h24v24H0V0z\" fill=\"none\"/>\n",
              "    <path d=\"M18.56 5.44l.94 2.06.94-2.06 2.06-.94-2.06-.94-.94-2.06-.94 2.06-2.06.94zm-11 1L8.5 8.5l.94-2.06 2.06-.94-2.06-.94L8.5 2.5l-.94 2.06-2.06.94zm10 10l.94 2.06.94-2.06 2.06-.94-2.06-.94-.94-2.06-.94 2.06-2.06.94z\"/><path d=\"M17.41 7.96l-1.37-1.37c-.4-.4-.92-.59-1.43-.59-.52 0-1.04.2-1.43.59L10.3 9.45l-7.72 7.72c-.78.78-.78 2.05 0 2.83L4 21.41c.39.39.9.59 1.41.59.51 0 1.02-.2 1.41-.59l7.78-7.78 2.81-2.81c.8-.78.8-2.07 0-2.86zM5.41 20L4 18.59l7.72-7.72 1.47 1.35L5.41 20z\"/>\n",
              "  </svg>\n",
              "      </button>\n",
              "      \n",
              "  <style>\n",
              "    .colab-df-container {\n",
              "      display:flex;\n",
              "      flex-wrap:wrap;\n",
              "      gap: 12px;\n",
              "    }\n",
              "\n",
              "    .colab-df-convert {\n",
              "      background-color: #E8F0FE;\n",
              "      border: none;\n",
              "      border-radius: 50%;\n",
              "      cursor: pointer;\n",
              "      display: none;\n",
              "      fill: #1967D2;\n",
              "      height: 32px;\n",
              "      padding: 0 0 0 0;\n",
              "      width: 32px;\n",
              "    }\n",
              "\n",
              "    .colab-df-convert:hover {\n",
              "      background-color: #E2EBFA;\n",
              "      box-shadow: 0px 1px 2px rgba(60, 64, 67, 0.3), 0px 1px 3px 1px rgba(60, 64, 67, 0.15);\n",
              "      fill: #174EA6;\n",
              "    }\n",
              "\n",
              "    [theme=dark] .colab-df-convert {\n",
              "      background-color: #3B4455;\n",
              "      fill: #D2E3FC;\n",
              "    }\n",
              "\n",
              "    [theme=dark] .colab-df-convert:hover {\n",
              "      background-color: #434B5C;\n",
              "      box-shadow: 0px 1px 3px 1px rgba(0, 0, 0, 0.15);\n",
              "      filter: drop-shadow(0px 1px 2px rgba(0, 0, 0, 0.3));\n",
              "      fill: #FFFFFF;\n",
              "    }\n",
              "  </style>\n",
              "\n",
              "      <script>\n",
              "        const buttonEl =\n",
              "          document.querySelector('#df-7c0078c7-8407-4aaf-8ba9-6fe4042eb291 button.colab-df-convert');\n",
              "        buttonEl.style.display =\n",
              "          google.colab.kernel.accessAllowed ? 'block' : 'none';\n",
              "\n",
              "        async function convertToInteractive(key) {\n",
              "          const element = document.querySelector('#df-7c0078c7-8407-4aaf-8ba9-6fe4042eb291');\n",
              "          const dataTable =\n",
              "            await google.colab.kernel.invokeFunction('convertToInteractive',\n",
              "                                                     [key], {});\n",
              "          if (!dataTable) return;\n",
              "\n",
              "          const docLinkHtml = 'Like what you see? Visit the ' +\n",
              "            '<a target=\"_blank\" href=https://colab.research.google.com/notebooks/data_table.ipynb>data table notebook</a>'\n",
              "            + ' to learn more about interactive tables.';\n",
              "          element.innerHTML = '';\n",
              "          dataTable['output_type'] = 'display_data';\n",
              "          await google.colab.output.renderOutput(dataTable, element);\n",
              "          const docLink = document.createElement('div');\n",
              "          docLink.innerHTML = docLinkHtml;\n",
              "          element.appendChild(docLink);\n",
              "        }\n",
              "      </script>\n",
              "    </div>\n",
              "  </div>\n",
              "  "
            ],
            "text/plain": [
              "               Lon          Lat  ...      Band 37        PM2.5\n",
              "count  4090.000000  4090.000000  ...  4090.000000  4090.000000\n",
              "mean     77.193528    28.632084  ...     0.117293    30.528403\n",
              "std       0.074616     0.067689  ...     0.032739    12.798978\n",
              "min      77.031000    28.497000  ...     0.046387     1.447100\n",
              "25%      77.146000    28.571000  ...     0.093019    23.333000\n",
              "50%      77.200000    28.638000  ...     0.113590    27.251000\n",
              "75%      77.250000    28.681000  ...     0.135520    34.784000\n",
              "max      77.318000    28.778000  ...     0.338600    78.889000\n",
              "\n",
              "[8 rows x 39 columns]"
            ]
          },
          "metadata": {},
          "execution_count": 7
        }
      ]
    },
    {
      "cell_type": "code",
      "source": [
        "X1 = df.drop([\"Lon\",\"Lat\",\"PM2.5\"],axis='columns')\n",
        "y = df['PM2.5'].values"
      ],
      "metadata": {
        "id": "kLMIND_jeGqu"
      },
      "execution_count": null,
      "outputs": []
    },
    {
      "cell_type": "code",
      "source": [
        "X1.shape"
      ],
      "metadata": {
        "colab": {
          "base_uri": "https://localhost:8080/"
        },
        "id": "LfDjc6A9gi63",
        "outputId": "0a57c161-cf66-4fb9-b6b5-a145790b98a1"
      },
      "execution_count": null,
      "outputs": [
        {
          "output_type": "execute_result",
          "data": {
            "text/plain": [
              "(4090, 36)"
            ]
          },
          "metadata": {},
          "execution_count": 9
        }
      ]
    },
    {
      "cell_type": "code",
      "source": [
        "#p = sns.pairplot(X1)"
      ],
      "metadata": {
        "id": "7egtcg547YBt"
      },
      "execution_count": null,
      "outputs": []
    },
    {
      "cell_type": "code",
      "source": [
        "corr = df.corr()\n",
        "sns.heatmap(df)"
      ],
      "metadata": {
        "id": "NdAJScg77mMh",
        "colab": {
          "base_uri": "https://localhost:8080/",
          "height": 319
        },
        "outputId": "6bc52e11-4513-49f8-e073-1541f61bbbc0"
      },
      "execution_count": null,
      "outputs": [
        {
          "output_type": "execute_result",
          "data": {
            "text/plain": [
              "<matplotlib.axes._subplots.AxesSubplot at 0x7fb349f61650>"
            ]
          },
          "metadata": {},
          "execution_count": 11
        },
        {
          "output_type": "display_data",
          "data": {
            "image/png": "[encoded data removed]",
            "text/plain": [
              "<Figure size 432x288 with 2 Axes>"
            ]
          },
          "metadata": {
            "needs_background": "light"
          }
        }
      ]
    },
    {
      "cell_type": "markdown",
      "source": [
        "Linear Regression"
      ],
      "metadata": {
        "id": "Et5-ln2xMPo5"
      }
    },
    {
      "cell_type": "code",
      "source": [
        "from sklearn.model_selection import train_test_split"
      ],
      "metadata": {
        "id": "sxxcGgG6cub0"
      },
      "execution_count": null,
      "outputs": []
    },
    {
      "cell_type": "code",
      "source": [
        "X_train,X_test,y_train,y_test = train_test_split(X1,y,test_size=0.2,random_state = 0)"
      ],
      "metadata": {
        "id": "p8781KtAkB9o"
      },
      "execution_count": null,
      "outputs": []
    },
    {
      "cell_type": "code",
      "source": [
        "#X_train, X_rem, y_train, y_rem = train_test_split(X1,y, train_size=0.7)"
      ],
      "metadata": {
        "id": "6bnRdHElRDYs"
      },
      "execution_count": null,
      "outputs": []
    },
    {
      "cell_type": "code",
      "source": [
        "#test_size = 0.5\n",
        "#X_valid, X_test, y_valid, y_test = train_test_split(X_rem,y_rem, test_size=0.5)"
      ],
      "metadata": {
        "id": "OTIGnywHQqJu"
      },
      "execution_count": null,
      "outputs": []
    },
    {
      "cell_type": "code",
      "source": [
        "from sklearn import linear_model\n",
        "regr = linear_model.LinearRegression()\n",
        "regr.fit(X_train,y_train)\n",
        "y_pred = regr.predict(X_test)\n",
        "print(regr.intercept_)"
      ],
      "metadata": {
        "colab": {
          "base_uri": "https://localhost:8080/"
        },
        "id": "v0uP8ZzP_vS-",
        "outputId": "3d8db2d5-99fd-4297-abe4-e0c55a8d18fd"
      },
      "execution_count": null,
      "outputs": [
        {
          "output_type": "stream",
          "name": "stdout",
          "text": [
            "34.75178449990214\n"
          ]
        }
      ]
    },
    {
      "cell_type": "code",
      "source": [
        "from sklearn import metrics\n",
        "print('Mean Absolute Error:', metrics.mean_absolute_error(y_test, y_pred))\n",
        "print('Mean Squared Error:', metrics.mean_squared_error(y_test, y_pred))\n",
        "print('Root Mean Squared Error:', np.sqrt(metrics.mean_squared_error(y_test, y_pred)))"
      ],
      "metadata": {
        "colab": {
          "base_uri": "https://localhost:8080/"
        },
        "id": "Ppps73enp_L6",
        "outputId": "1c07b6a4-a43b-48ea-976d-1c543d59bc7b"
      },
      "execution_count": null,
      "outputs": [
        {
          "output_type": "stream",
          "name": "stdout",
          "text": [
            "Mean Absolute Error: 8.32373031840134\n",
            "Mean Squared Error: 141.8354860801709\n",
            "Root Mean Squared Error: 11.909470436596704\n"
          ]
        }
      ]
    },
    {
      "cell_type": "code",
      "source": [
        "from sklearn.metrics import r2_score\n",
        "r2_score(y_test,y_pred)"
      ],
      "metadata": {
        "colab": {
          "base_uri": "https://localhost:8080/"
        },
        "id": "yJgsu4ou_pw1",
        "outputId": "8a8b43aa-e8a0-45c1-9b5a-b55645c20f97"
      },
      "execution_count": null,
      "outputs": [
        {
          "output_type": "execute_result",
          "data": {
            "text/plain": [
              "0.12249191000836357"
            ]
          },
          "metadata": {},
          "execution_count": 18
        }
      ]
    },
    {
      "cell_type": "code",
      "source": [
        "sse = np.sum((y_pred - y_test)**2)\n",
        "sst = np.sum((y_test - y_test.mean())**2)\n",
        "R_square = 1 - (sse/sst)\n",
        "print('R square obtain for normal equation method is :',R_square)"
      ],
      "metadata": {
        "colab": {
          "base_uri": "https://localhost:8080/"
        },
        "id": "tFYxW9J3esZn",
        "outputId": "0e84938b-6c06-428b-9592-3cdd1b786a60"
      },
      "execution_count": null,
      "outputs": [
        {
          "output_type": "stream",
          "name": "stdout",
          "text": [
            "R square obtain for normal equation method is : 0.12249191000836357\n"
          ]
        }
      ]
    },
    {
      "cell_type": "code",
      "source": [
        "#pd.set_option(\"display.max_rows\",None)"
      ],
      "metadata": {
        "id": "ha7rBjlN3Rm5"
      },
      "execution_count": null,
      "outputs": []
    },
    {
      "cell_type": "code",
      "source": [
        "X2 = pd.DataFrame({'Actual': y_test, 'Predicted': y_pred})\n",
        "X2"
      ],
      "metadata": {
        "colab": {
          "base_uri": "https://localhost:8080/",
          "height": 423
        },
        "id": "SgpP7ma2h_Dt",
        "outputId": "284cb4fd-f470-4528-dd16-fe6e0d43e881"
      },
      "execution_count": null,
      "outputs": [
        {
          "output_type": "execute_result",
          "data": {
            "text/html": [
              "\n",
              "  <div id=\"df-b88f9eaf-1ce2-4d8c-a158-7283792d7285\">\n",
              "    <div class=\"colab-df-container\">\n",
              "      <div>\n",
              "<style scoped>\n",
              "    .dataframe tbody tr th:only-of-type {\n",
              "        vertical-align: middle;\n",
              "    }\n",
              "\n",
              "    .dataframe tbody tr th {\n",
              "        vertical-align: top;\n",
              "    }\n",
              "\n",
              "    .dataframe thead th {\n",
              "        text-align: right;\n",
              "    }\n",
              "</style>\n",
              "<table border=\"1\" class=\"dataframe\">\n",
              "  <thead>\n",
              "    <tr style=\"text-align: right;\">\n",
              "      <th></th>\n",
              "      <th>Actual</th>\n",
              "      <th>Predicted</th>\n",
              "    </tr>\n",
              "  </thead>\n",
              "  <tbody>\n",
              "    <tr>\n",
              "      <th>0</th>\n",
              "      <td>23.333</td>\n",
              "      <td>29.563391</td>\n",
              "    </tr>\n",
              "    <tr>\n",
              "      <th>1</th>\n",
              "      <td>33.224</td>\n",
              "      <td>27.169346</td>\n",
              "    </tr>\n",
              "    <tr>\n",
              "      <th>2</th>\n",
              "      <td>21.991</td>\n",
              "      <td>30.722149</td>\n",
              "    </tr>\n",
              "    <tr>\n",
              "      <th>3</th>\n",
              "      <td>42.515</td>\n",
              "      <td>40.359564</td>\n",
              "    </tr>\n",
              "    <tr>\n",
              "      <th>4</th>\n",
              "      <td>37.778</td>\n",
              "      <td>28.141261</td>\n",
              "    </tr>\n",
              "    <tr>\n",
              "      <th>...</th>\n",
              "      <td>...</td>\n",
              "      <td>...</td>\n",
              "    </tr>\n",
              "    <tr>\n",
              "      <th>813</th>\n",
              "      <td>24.550</td>\n",
              "      <td>24.193419</td>\n",
              "    </tr>\n",
              "    <tr>\n",
              "      <th>814</th>\n",
              "      <td>27.250</td>\n",
              "      <td>27.504041</td>\n",
              "    </tr>\n",
              "    <tr>\n",
              "      <th>815</th>\n",
              "      <td>26.012</td>\n",
              "      <td>26.612234</td>\n",
              "    </tr>\n",
              "    <tr>\n",
              "      <th>816</th>\n",
              "      <td>57.664</td>\n",
              "      <td>28.527528</td>\n",
              "    </tr>\n",
              "    <tr>\n",
              "      <th>817</th>\n",
              "      <td>36.196</td>\n",
              "      <td>43.269228</td>\n",
              "    </tr>\n",
              "  </tbody>\n",
              "</table>\n",
              "<p>818 rows × 2 columns</p>\n",
              "</div>\n",
              "      <button class=\"colab-df-convert\" onclick=\"convertToInteractive('df-b88f9eaf-1ce2-4d8c-a158-7283792d7285')\"\n",
              "              title=\"Convert this dataframe to an interactive table.\"\n",
              "              style=\"display:none;\">\n",
              "        \n",
              "  <svg xmlns=\"http://www.w3.org/2000/svg\" height=\"24px\"viewBox=\"0 0 24 24\"\n",
              "       width=\"24px\">\n",
              "    <path d=\"M0 0h24v24H0V0z\" fill=\"none\"/>\n",
              "    <path d=\"M18.56 5.44l.94 2.06.94-2.06 2.06-.94-2.06-.94-.94-2.06-.94 2.06-2.06.94zm-11 1L8.5 8.5l.94-2.06 2.06-.94-2.06-.94L8.5 2.5l-.94 2.06-2.06.94zm10 10l.94 2.06.94-2.06 2.06-.94-2.06-.94-.94-2.06-.94 2.06-2.06.94z\"/><path d=\"M17.41 7.96l-1.37-1.37c-.4-.4-.92-.59-1.43-.59-.52 0-1.04.2-1.43.59L10.3 9.45l-7.72 7.72c-.78.78-.78 2.05 0 2.83L4 21.41c.39.39.9.59 1.41.59.51 0 1.02-.2 1.41-.59l7.78-7.78 2.81-2.81c.8-.78.8-2.07 0-2.86zM5.41 20L4 18.59l7.72-7.72 1.47 1.35L5.41 20z\"/>\n",
              "  </svg>\n",
              "      </button>\n",
              "      \n",
              "  <style>\n",
              "    .colab-df-container {\n",
              "      display:flex;\n",
              "      flex-wrap:wrap;\n",
              "      gap: 12px;\n",
              "    }\n",
              "\n",
              "    .colab-df-convert {\n",
              "      background-color: #E8F0FE;\n",
              "      border: none;\n",
              "      border-radius: 50%;\n",
              "      cursor: pointer;\n",
              "      display: none;\n",
              "      fill: #1967D2;\n",
              "      height: 32px;\n",
              "      padding: 0 0 0 0;\n",
              "      width: 32px;\n",
              "    }\n",
              "\n",
              "    .colab-df-convert:hover {\n",
              "      background-color: #E2EBFA;\n",
              "      box-shadow: 0px 1px 2px rgba(60, 64, 67, 0.3), 0px 1px 3px 1px rgba(60, 64, 67, 0.15);\n",
              "      fill: #174EA6;\n",
              "    }\n",
              "\n",
              "    [theme=dark] .colab-df-convert {\n",
              "      background-color: #3B4455;\n",
              "      fill: #D2E3FC;\n",
              "    }\n",
              "\n",
              "    [theme=dark] .colab-df-convert:hover {\n",
              "      background-color: #434B5C;\n",
              "      box-shadow: 0px 1px 3px 1px rgba(0, 0, 0, 0.15);\n",
              "      filter: drop-shadow(0px 1px 2px rgba(0, 0, 0, 0.3));\n",
              "      fill: #FFFFFF;\n",
              "    }\n",
              "  </style>\n",
              "\n",
              "      <script>\n",
              "        const buttonEl =\n",
              "          document.querySelector('#df-b88f9eaf-1ce2-4d8c-a158-7283792d7285 button.colab-df-convert');\n",
              "        buttonEl.style.display =\n",
              "          google.colab.kernel.accessAllowed ? 'block' : 'none';\n",
              "\n",
              "        async function convertToInteractive(key) {\n",
              "          const element = document.querySelector('#df-b88f9eaf-1ce2-4d8c-a158-7283792d7285');\n",
              "          const dataTable =\n",
              "            await google.colab.kernel.invokeFunction('convertToInteractive',\n",
              "                                                     [key], {});\n",
              "          if (!dataTable) return;\n",
              "\n",
              "          const docLinkHtml = 'Like what you see? Visit the ' +\n",
              "            '<a target=\"_blank\" href=https://colab.research.google.com/notebooks/data_table.ipynb>data table notebook</a>'\n",
              "            + ' to learn more about interactive tables.';\n",
              "          element.innerHTML = '';\n",
              "          dataTable['output_type'] = 'display_data';\n",
              "          await google.colab.output.renderOutput(dataTable, element);\n",
              "          const docLink = document.createElement('div');\n",
              "          docLink.innerHTML = docLinkHtml;\n",
              "          element.appendChild(docLink);\n",
              "        }\n",
              "      </script>\n",
              "    </div>\n",
              "  </div>\n",
              "  "
            ],
            "text/plain": [
              "     Actual  Predicted\n",
              "0    23.333  29.563391\n",
              "1    33.224  27.169346\n",
              "2    21.991  30.722149\n",
              "3    42.515  40.359564\n",
              "4    37.778  28.141261\n",
              "..      ...        ...\n",
              "813  24.550  24.193419\n",
              "814  27.250  27.504041\n",
              "815  26.012  26.612234\n",
              "816  57.664  28.527528\n",
              "817  36.196  43.269228\n",
              "\n",
              "[818 rows x 2 columns]"
            ]
          },
          "metadata": {},
          "execution_count": 21
        }
      ]
    },
    {
      "cell_type": "code",
      "source": [
        "X3 = X2.copy()"
      ],
      "metadata": {
        "id": "ezXkzDRi0o5U"
      },
      "execution_count": null,
      "outputs": []
    },
    {
      "cell_type": "code",
      "source": [
        "X3.to_csv('actual_predicted.csv')\n",
        "!cp actual_predicted.csv \"drive/My Drive/\""
      ],
      "metadata": {
        "id": "w3gxjd0d4Eyf"
      },
      "execution_count": null,
      "outputs": []
    },
    {
      "cell_type": "code",
      "source": [
        "from sklearn.model_selection import KFold, StratifiedKFold, cross_val_score\n",
        "from sklearn import linear_model, tree, ensemble\n",
        "kf =KFold(n_splits=10, shuffle=True, random_state=42)"
      ],
      "metadata": {
        "id": "_5tv6lVT4V6y"
      },
      "execution_count": null,
      "outputs": []
    },
    {
      "cell_type": "code",
      "source": [
        "cnt=1\n",
        "for train_index, test_index in kf.split(X1, y):\n",
        "    print(f'Fold:{cnt}, Train set: {len(train_index)}, Test set:{len(test_index)}')\n",
        "    cnt += 1"
      ],
      "metadata": {
        "colab": {
          "base_uri": "https://localhost:8080/"
        },
        "id": "p_SnL2v7oFgr",
        "outputId": "dac229b8-8040-48fe-a579-c9bbeb272089"
      },
      "execution_count": null,
      "outputs": [
        {
          "output_type": "stream",
          "name": "stdout",
          "text": [
            "Fold:1, Train set: 3681, Test set:409\n",
            "Fold:2, Train set: 3681, Test set:409\n",
            "Fold:3, Train set: 3681, Test set:409\n",
            "Fold:4, Train set: 3681, Test set:409\n",
            "Fold:5, Train set: 3681, Test set:409\n",
            "Fold:6, Train set: 3681, Test set:409\n",
            "Fold:7, Train set: 3681, Test set:409\n",
            "Fold:8, Train set: 3681, Test set:409\n",
            "Fold:9, Train set: 3681, Test set:409\n",
            "Fold:10, Train set: 3681, Test set:409\n"
          ]
        }
      ]
    },
    {
      "cell_type": "code",
      "source": [
        "def rmse(score):\n",
        "    rmse = np.sqrt(-score)\n",
        "    print(f'rmse= {\"{:.2f}\".format(rmse)}')"
      ],
      "metadata": {
        "id": "ylFykwmVoFkI"
      },
      "execution_count": null,
      "outputs": []
    },
    {
      "cell_type": "code",
      "source": [
        "score = cross_val_score(linear_model.LinearRegression(), X_train, y_train, cv= kf, scoring=\"neg_mean_squared_error\")\n",
        "print(f'Scores for each fold: {score}')\n",
        "rmse(score.mean())"
      ],
      "metadata": {
        "colab": {
          "base_uri": "https://localhost:8080/"
        },
        "id": "thLCuiZHo2K7",
        "outputId": "07baec7d-cced-419d-a429-b96272bef8ea"
      },
      "execution_count": null,
      "outputs": [
        {
          "output_type": "stream",
          "name": "stdout",
          "text": [
            "Scores for each fold: [-156.80281929 -135.03746685 -106.63136136 -171.64174133 -127.8357958\n",
            " -145.82770327 -163.42551213 -127.69293501 -143.51909083 -117.75198132]\n",
            "rmse= 11.82\n"
          ]
        }
      ]
    },
    {
      "cell_type": "code",
      "source": [
        "scores = cross_val_score(regr, X_train, y_train, scoring='r2', cv=10)\n",
        "scores  \n",
        "print(\"Mean_Acc : \", scores.mean())"
      ],
      "metadata": {
        "colab": {
          "base_uri": "https://localhost:8080/"
        },
        "id": "zpNizjdR5UQ1",
        "outputId": "ed658566-c6bb-4a76-e811-8b79f33b4c5f"
      },
      "execution_count": null,
      "outputs": [
        {
          "output_type": "stream",
          "name": "stdout",
          "text": [
            "Mean_Acc :  0.1484165962345873\n"
          ]
        }
      ]
    },
    {
      "cell_type": "markdown",
      "source": [
        "Random Forest"
      ],
      "metadata": {
        "id": "7Tn74zx5HT68"
      }
    },
    {
      "cell_type": "code",
      "source": [
        ""
      ],
      "metadata": {
        "id": "x2QTbs1WxSt6"
      },
      "execution_count": null,
      "outputs": []
    },
    {
      "cell_type": "code",
      "source": [
        "X1 = df.drop([\"Lon\",\"Lat\",\"PM2.5\"],axis='columns')\n",
        "y = df['PM2.5'].values"
      ],
      "metadata": {
        "id": "LvlxcnQHxS6_"
      },
      "execution_count": null,
      "outputs": []
    },
    {
      "cell_type": "code",
      "source": [
        "from sklearn.preprocessing import StandardScaler\n",
        "\n",
        "sc = StandardScaler()\n",
        "X_train = sc.fit_transform(X_train)\n",
        "X_test = sc.transform(X_test)"
      ],
      "metadata": {
        "id": "oBrtoEaMHXzR"
      },
      "execution_count": null,
      "outputs": []
    },
    {
      "cell_type": "code",
      "source": [
        "from sklearn.ensemble import RandomForestRegressor\n",
        "regressor = RandomForestRegressor(n_estimators = 100, random_state = 0)\n",
        "regressor.fit(X_train, y_train) \n",
        "y_pred_rf = regressor.predict(X_test)"
      ],
      "metadata": {
        "id": "Kcv_w1PJHnOx"
      },
      "execution_count": null,
      "outputs": []
    },
    {
      "cell_type": "code",
      "source": [
        "from sklearn import metrics\n",
        "import numpy as np\n",
        "print('Mean Absolute Error:', metrics.mean_absolute_error(y_test, y_pred_rf))\n",
        "print('Mean Squared Error:', metrics.mean_squared_error(y_test, y_pred_rf))\n",
        "print('Root Mean Squared Error:', np.sqrt(metrics.mean_squared_error(y_test, y_pred_rf)))"
      ],
      "metadata": {
        "colab": {
          "base_uri": "https://localhost:8080/"
        },
        "id": "IfXM2S91IOTQ",
        "outputId": "aadafb7a-8eee-41ac-ad81-7f2cf9207a74"
      },
      "execution_count": null,
      "outputs": [
        {
          "output_type": "stream",
          "name": "stdout",
          "text": [
            "Mean Absolute Error: 0.3974477823961136\n",
            "Mean Squared Error: 8.110995392670898\n",
            "Root Mean Squared Error: 2.8479809326382255\n"
          ]
        }
      ]
    },
    {
      "cell_type": "code",
      "source": [
        "from sklearn.metrics import r2_score\n",
        "r2_score(y_test, y_pred_rf)\n"
      ],
      "metadata": {
        "colab": {
          "base_uri": "https://localhost:8080/"
        },
        "id": "pyTrgLxELQDn",
        "outputId": "4cdace7e-9ae8-4df4-837d-345031ce0442"
      },
      "execution_count": null,
      "outputs": [
        {
          "output_type": "execute_result",
          "data": {
            "text/plain": [
              "0.9515336388565645"
            ]
          },
          "metadata": {},
          "execution_count": 239
        }
      ]
    },
    {
      "cell_type": "code",
      "source": [
        "X_r = pd.DataFrame({'Actual': y_test, 'Predicted': y_pred_rf})\n",
        "X_r"
      ],
      "metadata": {
        "colab": {
          "base_uri": "https://localhost:8080/",
          "height": 423
        },
        "id": "fKfLjhlt07SC",
        "outputId": "47a7e850-264a-4705-cb8d-e97ed575dc70"
      },
      "execution_count": null,
      "outputs": [
        {
          "output_type": "execute_result",
          "data": {
            "text/html": [
              "\n",
              "  <div id=\"df-15b2f8c3-8a74-42a4-87aa-ac5fd41edfcd\">\n",
              "    <div class=\"colab-df-container\">\n",
              "      <div>\n",
              "<style scoped>\n",
              "    .dataframe tbody tr th:only-of-type {\n",
              "        vertical-align: middle;\n",
              "    }\n",
              "\n",
              "    .dataframe tbody tr th {\n",
              "        vertical-align: top;\n",
              "    }\n",
              "\n",
              "    .dataframe thead th {\n",
              "        text-align: right;\n",
              "    }\n",
              "</style>\n",
              "<table border=\"1\" class=\"dataframe\">\n",
              "  <thead>\n",
              "    <tr style=\"text-align: right;\">\n",
              "      <th></th>\n",
              "      <th>Actual</th>\n",
              "      <th>Predicted</th>\n",
              "    </tr>\n",
              "  </thead>\n",
              "  <tbody>\n",
              "    <tr>\n",
              "      <th>0</th>\n",
              "      <td>26.008</td>\n",
              "      <td>26.00800</td>\n",
              "    </tr>\n",
              "    <tr>\n",
              "      <th>1</th>\n",
              "      <td>22.786</td>\n",
              "      <td>22.78600</td>\n",
              "    </tr>\n",
              "    <tr>\n",
              "      <th>2</th>\n",
              "      <td>35.129</td>\n",
              "      <td>35.12900</td>\n",
              "    </tr>\n",
              "    <tr>\n",
              "      <th>3</th>\n",
              "      <td>20.684</td>\n",
              "      <td>20.68400</td>\n",
              "    </tr>\n",
              "    <tr>\n",
              "      <th>4</th>\n",
              "      <td>27.321</td>\n",
              "      <td>27.32100</td>\n",
              "    </tr>\n",
              "    <tr>\n",
              "      <th>...</th>\n",
              "      <td>...</td>\n",
              "      <td>...</td>\n",
              "    </tr>\n",
              "    <tr>\n",
              "      <th>813</th>\n",
              "      <td>32.722</td>\n",
              "      <td>32.72200</td>\n",
              "    </tr>\n",
              "    <tr>\n",
              "      <th>814</th>\n",
              "      <td>24.507</td>\n",
              "      <td>24.96165</td>\n",
              "    </tr>\n",
              "    <tr>\n",
              "      <th>815</th>\n",
              "      <td>27.250</td>\n",
              "      <td>27.16724</td>\n",
              "    </tr>\n",
              "    <tr>\n",
              "      <th>816</th>\n",
              "      <td>58.009</td>\n",
              "      <td>58.00900</td>\n",
              "    </tr>\n",
              "    <tr>\n",
              "      <th>817</th>\n",
              "      <td>30.113</td>\n",
              "      <td>30.11300</td>\n",
              "    </tr>\n",
              "  </tbody>\n",
              "</table>\n",
              "<p>818 rows × 2 columns</p>\n",
              "</div>\n",
              "      <button class=\"colab-df-convert\" onclick=\"convertToInteractive('df-15b2f8c3-8a74-42a4-87aa-ac5fd41edfcd')\"\n",
              "              title=\"Convert this dataframe to an interactive table.\"\n",
              "              style=\"display:none;\">\n",
              "        \n",
              "  <svg xmlns=\"http://www.w3.org/2000/svg\" height=\"24px\"viewBox=\"0 0 24 24\"\n",
              "       width=\"24px\">\n",
              "    <path d=\"M0 0h24v24H0V0z\" fill=\"none\"/>\n",
              "    <path d=\"M18.56 5.44l.94 2.06.94-2.06 2.06-.94-2.06-.94-.94-2.06-.94 2.06-2.06.94zm-11 1L8.5 8.5l.94-2.06 2.06-.94-2.06-.94L8.5 2.5l-.94 2.06-2.06.94zm10 10l.94 2.06.94-2.06 2.06-.94-2.06-.94-.94-2.06-.94 2.06-2.06.94z\"/><path d=\"M17.41 7.96l-1.37-1.37c-.4-.4-.92-.59-1.43-.59-.52 0-1.04.2-1.43.59L10.3 9.45l-7.72 7.72c-.78.78-.78 2.05 0 2.83L4 21.41c.39.39.9.59 1.41.59.51 0 1.02-.2 1.41-.59l7.78-7.78 2.81-2.81c.8-.78.8-2.07 0-2.86zM5.41 20L4 18.59l7.72-7.72 1.47 1.35L5.41 20z\"/>\n",
              "  </svg>\n",
              "      </button>\n",
              "      \n",
              "  <style>\n",
              "    .colab-df-container {\n",
              "      display:flex;\n",
              "      flex-wrap:wrap;\n",
              "      gap: 12px;\n",
              "    }\n",
              "\n",
              "    .colab-df-convert {\n",
              "      background-color: #E8F0FE;\n",
              "      border: none;\n",
              "      border-radius: 50%;\n",
              "      cursor: pointer;\n",
              "      display: none;\n",
              "      fill: #1967D2;\n",
              "      height: 32px;\n",
              "      padding: 0 0 0 0;\n",
              "      width: 32px;\n",
              "    }\n",
              "\n",
              "    .colab-df-convert:hover {\n",
              "      background-color: #E2EBFA;\n",
              "      box-shadow: 0px 1px 2px rgba(60, 64, 67, 0.3), 0px 1px 3px 1px rgba(60, 64, 67, 0.15);\n",
              "      fill: #174EA6;\n",
              "    }\n",
              "\n",
              "    [theme=dark] .colab-df-convert {\n",
              "      background-color: #3B4455;\n",
              "      fill: #D2E3FC;\n",
              "    }\n",
              "\n",
              "    [theme=dark] .colab-df-convert:hover {\n",
              "      background-color: #434B5C;\n",
              "      box-shadow: 0px 1px 3px 1px rgba(0, 0, 0, 0.15);\n",
              "      filter: drop-shadow(0px 1px 2px rgba(0, 0, 0, 0.3));\n",
              "      fill: #FFFFFF;\n",
              "    }\n",
              "  </style>\n",
              "\n",
              "      <script>\n",
              "        const buttonEl =\n",
              "          document.querySelector('#df-15b2f8c3-8a74-42a4-87aa-ac5fd41edfcd button.colab-df-convert');\n",
              "        buttonEl.style.display =\n",
              "          google.colab.kernel.accessAllowed ? 'block' : 'none';\n",
              "\n",
              "        async function convertToInteractive(key) {\n",
              "          const element = document.querySelector('#df-15b2f8c3-8a74-42a4-87aa-ac5fd41edfcd');\n",
              "          const dataTable =\n",
              "            await google.colab.kernel.invokeFunction('convertToInteractive',\n",
              "                                                     [key], {});\n",
              "          if (!dataTable) return;\n",
              "\n",
              "          const docLinkHtml = 'Like what you see? Visit the ' +\n",
              "            '<a target=\"_blank\" href=https://colab.research.google.com/notebooks/data_table.ipynb>data table notebook</a>'\n",
              "            + ' to learn more about interactive tables.';\n",
              "          element.innerHTML = '';\n",
              "          dataTable['output_type'] = 'display_data';\n",
              "          await google.colab.output.renderOutput(dataTable, element);\n",
              "          const docLink = document.createElement('div');\n",
              "          docLink.innerHTML = docLinkHtml;\n",
              "          element.appendChild(docLink);\n",
              "        }\n",
              "      </script>\n",
              "    </div>\n",
              "  </div>\n",
              "  "
            ],
            "text/plain": [
              "     Actual  Predicted\n",
              "0    26.008   26.00800\n",
              "1    22.786   22.78600\n",
              "2    35.129   35.12900\n",
              "3    20.684   20.68400\n",
              "4    27.321   27.32100\n",
              "..      ...        ...\n",
              "813  32.722   32.72200\n",
              "814  24.507   24.96165\n",
              "815  27.250   27.16724\n",
              "816  58.009   58.00900\n",
              "817  30.113   30.11300\n",
              "\n",
              "[818 rows x 2 columns]"
            ]
          },
          "metadata": {},
          "execution_count": 240
        }
      ]
    },
    {
      "cell_type": "code",
      "source": [
        "X_rf = X_r.copy()\n",
        "X_rf.to_csv('act_predrf.csv')\n",
        "!cp actual_predicted.csv \"drive/My Drive/\""
      ],
      "metadata": {
        "id": "qKNAsXBc1Dq-"
      },
      "execution_count": null,
      "outputs": []
    },
    {
      "cell_type": "code",
      "source": [
        "import matplotlib.pyplot as plt\n",
        "plt.style.use('seaborn-whitegrid')\n",
        "plt.plot(y_test, y_pred_rf, 'o', color='black');"
      ],
      "metadata": {
        "colab": {
          "base_uri": "https://localhost:8080/",
          "height": 262
        },
        "id": "2Xg45GQPLtg8",
        "outputId": "0867768d-d226-4e02-ee5f-d8e1e2384133"
      },
      "execution_count": null,
      "outputs": [
        {
          "output_type": "display_data",
          "data": {
            "image/png": "[encoded data removed]",
            "text/plain": [
              "<Figure size 432x288 with 1 Axes>"
            ]
          },
          "metadata": {}
        }
      ]
    },
    {
      "cell_type": "code",
      "source": [
        "score = cross_val_score(ensemble.RandomForestRegressor(random_state= 42), X_train, y_train, cv= kf, scoring=\"neg_mean_squared_error\")\n",
        "print(f'Scores for each fold are: {score}')\n",
        "rmse(score.mean())"
      ],
      "metadata": {
        "colab": {
          "base_uri": "https://localhost:8080/"
        },
        "id": "r7gd3lB2Pk7M",
        "outputId": "b9a11616-8af8-4f47-fc6f-e0aab133c3e3"
      },
      "execution_count": null,
      "outputs": [
        {
          "output_type": "stream",
          "name": "stdout",
          "text": [
            "Scores for each fold are: [ -5.49577886  -1.13786816  -1.72808972 -11.6858958   -0.63093308\n",
            "  -2.89352717  -4.3055801   -5.92462213  -7.44176023  -6.27001102]\n",
            "rmse= 2.18\n"
          ]
        }
      ]
    },
    {
      "cell_type": "code",
      "source": [
        "scores = cross_val_score(regressor, X_train, y_train, scoring='r2', cv=10)\n",
        "scores  \n",
        "print(\"Mean_Acc : \", scores.mean())"
      ],
      "metadata": {
        "colab": {
          "base_uri": "https://localhost:8080/"
        },
        "id": "n2GI4hYk6H_b",
        "outputId": "10926286-b12a-45bc-bf3f-ee25c02ec9be"
      },
      "execution_count": null,
      "outputs": [
        {
          "output_type": "stream",
          "name": "stdout",
          "text": [
            "Mean_Acc :  0.968920726500278\n"
          ]
        }
      ]
    },
    {
      "cell_type": "markdown",
      "source": [
        "SVR"
      ],
      "metadata": {
        "id": "wwIWM-MWVw5P"
      }
    },
    {
      "cell_type": "code",
      "source": [
        "X1 = df.drop([\"Lon\",\"Lat\",\"PM2.5\"],axis='columns')\n",
        "y = df['PM2.5'].values\n",
        "y = y.reshape(len(y),1)"
      ],
      "metadata": {
        "id": "lbUHSyiqmKZt"
      },
      "execution_count": null,
      "outputs": []
    },
    {
      "cell_type": "code",
      "source": [
        "y.shape"
      ],
      "metadata": {
        "colab": {
          "base_uri": "https://localhost:8080/"
        },
        "id": "6LZBtilhmDAe",
        "outputId": "d7b65cce-9083-46ca-8438-31c921dcf12f"
      },
      "execution_count": null,
      "outputs": [
        {
          "output_type": "execute_result",
          "data": {
            "text/plain": [
              "(4090, 1)"
            ]
          },
          "metadata": {},
          "execution_count": 247
        }
      ]
    },
    {
      "cell_type": "code",
      "source": [
        "from sklearn.svm import SVR\n",
        "from sklearn.preprocessing import StandardScaler\n",
        "sc_X1 = StandardScaler()\n",
        "sc_y = StandardScaler()\n",
        "X = sc_X1.fit_transform(X1)\n",
        "#y = np.squeeze(sc_y.fit_transform(y.reshape(-1, 1)))\n",
        "y = sc_y.fit_transform(y)"
      ],
      "metadata": {
        "id": "BR1FvfkAfkaB"
      },
      "execution_count": null,
      "outputs": []
    },
    {
      "cell_type": "code",
      "source": [
        "svr=SVR(kernel = 'rbf') \n",
        "from sklearn.model_selection import train_test_split\n",
        "X_train,X_test,y_train,y_test = train_test_split(X,y,test_size=0.2,random_state = 0)"
      ],
      "metadata": {
        "id": "SfXTsz8FaCpe"
      },
      "execution_count": null,
      "outputs": []
    },
    {
      "cell_type": "code",
      "source": [
        "svr.fit(X_train, y_train)"
      ],
      "metadata": {
        "colab": {
          "base_uri": "https://localhost:8080/"
        },
        "id": "dB8ayMPqaCs2",
        "outputId": "ba74b39d-1c5c-4f39-f43f-68b3dcdffafc"
      },
      "execution_count": null,
      "outputs": [
        {
          "output_type": "stream",
          "name": "stderr",
          "text": [
            "/usr/local/lib/python3.7/dist-packages/sklearn/utils/validation.py:985: DataConversionWarning: A column-vector y was passed when a 1d array was expected. Please change the shape of y to (n_samples, ), for example using ravel().\n",
            "  y = column_or_1d(y, warn=True)\n"
          ]
        },
        {
          "output_type": "execute_result",
          "data": {
            "text/plain": [
              "SVR()"
            ]
          },
          "metadata": {},
          "execution_count": 250
        }
      ]
    },
    {
      "cell_type": "code",
      "source": [
        "#y_pred_svr = svr.predict(X_test)    \n",
        "#sc_y.inverse_transform(svr.predict(sc_X1.transform(X_test)))"
      ],
      "metadata": {
        "id": "JkQWE11GijdO"
      },
      "execution_count": null,
      "outputs": []
    },
    {
      "cell_type": "code",
      "source": [
        "y_pred_svr = svr.predict(X_test)   \n",
        "y_pred_sv = y_pred_svr.copy()\n",
        "y_pred_sv = y_pred_sv.reshape(-1,1)\n",
        "y_pred_sv = sc_y.inverse_transform(y_pred_sv)\n",
        "print(y_pred_sv)"
      ],
      "metadata": {
        "colab": {
          "base_uri": "https://localhost:8080/"
        },
        "id": "MBOyb9-HdWMq",
        "outputId": "30ac0619-d377-4171-a900-f4102c76aa89"
      },
      "execution_count": null,
      "outputs": [
        {
          "output_type": "stream",
          "name": "stdout",
          "text": [
            "[[32.33738558]\n",
            " [25.45892555]\n",
            " [19.3613497 ]\n",
            " [28.99743274]\n",
            " [31.0655332 ]\n",
            " [30.19993611]\n",
            " [28.83346033]\n",
            " [26.35663128]\n",
            " [26.40383762]\n",
            " [32.17046696]\n",
            " [29.78372289]\n",
            " [25.82897565]\n",
            " [28.96976439]\n",
            " [25.82897565]\n",
            " [29.21692814]\n",
            " [27.73031491]\n",
            " [30.55376223]\n",
            " [28.20164567]\n",
            " [24.1291746 ]\n",
            " [27.35497047]\n",
            " [27.1084716 ]\n",
            " [31.24433706]\n",
            " [28.38206642]\n",
            " [31.07444376]\n",
            " [40.14194882]\n",
            " [31.1062106 ]\n",
            " [22.04860564]\n",
            " [27.60271927]\n",
            " [25.55316347]\n",
            " [31.1062106 ]\n",
            " [25.26066252]\n",
            " [28.85611004]\n",
            " [30.19993611]\n",
            " [28.52701228]\n",
            " [28.06821988]\n",
            " [26.71432163]\n",
            " [30.52630955]\n",
            " [29.80649995]\n",
            " [25.01868955]\n",
            " [25.04999413]\n",
            " [27.60088274]\n",
            " [26.42213682]\n",
            " [27.94112069]\n",
            " [26.70846029]\n",
            " [20.09450016]\n",
            " [30.12805595]\n",
            " [26.35316964]\n",
            " [32.83441333]\n",
            " [33.09676687]\n",
            " [27.81698966]\n",
            " [28.17275985]\n",
            " [31.87520302]\n",
            " [35.17164374]\n",
            " [31.62012789]\n",
            " [28.34369245]\n",
            " [29.78393182]\n",
            " [28.08063152]\n",
            " [28.00199038]\n",
            " [26.13631276]\n",
            " [28.42945896]\n",
            " [26.78470767]\n",
            " [27.90697245]\n",
            " [28.20968817]\n",
            " [29.3389272 ]\n",
            " [28.38764068]\n",
            " [31.00599195]\n",
            " [24.44959853]\n",
            " [33.6271538 ]\n",
            " [29.3389272 ]\n",
            " [32.26095227]\n",
            " [28.59411761]\n",
            " [31.04169843]\n",
            " [35.41564217]\n",
            " [33.09676687]\n",
            " [27.05584164]\n",
            " [31.07444376]\n",
            " [32.17046696]\n",
            " [28.20164567]\n",
            " [30.87071515]\n",
            " [31.26522738]\n",
            " [26.21535749]\n",
            " [27.2230897 ]\n",
            " [31.69465409]\n",
            " [27.33678602]\n",
            " [27.13271412]\n",
            " [29.5146379 ]\n",
            " [27.65861071]\n",
            " [25.82897565]\n",
            " [26.40832676]\n",
            " [27.49386615]\n",
            " [27.35497047]\n",
            " [27.49271791]\n",
            " [25.26066252]\n",
            " [27.02126525]\n",
            " [27.94112069]\n",
            " [32.54275102]\n",
            " [30.03385885]\n",
            " [27.26570394]\n",
            " [31.29510652]\n",
            " [26.40832676]\n",
            " [24.06204216]\n",
            " [30.14842011]\n",
            " [28.2467523 ]\n",
            " [25.31901648]\n",
            " [23.74194749]\n",
            " [32.54275102]\n",
            " [26.21957835]\n",
            " [27.12030095]\n",
            " [32.99691094]\n",
            " [31.63547745]\n",
            " [27.48422893]\n",
            " [31.27437271]\n",
            " [30.25474388]\n",
            " [33.18464117]\n",
            " [36.95114794]\n",
            " [29.97213723]\n",
            " [32.69477662]\n",
            " [27.42919668]\n",
            " [39.55485259]\n",
            " [31.24952867]\n",
            " [32.17046696]\n",
            " [27.1875214 ]\n",
            " [29.97213723]\n",
            " [27.32797534]\n",
            " [29.97948195]\n",
            " [26.42213682]\n",
            " [27.26570394]\n",
            " [26.30974867]\n",
            " [32.31282616]\n",
            " [24.72507279]\n",
            " [37.99727424]\n",
            " [31.84297326]\n",
            " [32.12925213]\n",
            " [31.34846472]\n",
            " [30.12805595]\n",
            " [27.80522982]\n",
            " [30.25474388]\n",
            " [33.36345369]\n",
            " [28.07718374]\n",
            " [27.10547793]\n",
            " [32.90909335]\n",
            " [31.62012789]\n",
            " [27.3221113 ]\n",
            " [27.26570394]\n",
            " [25.26066252]\n",
            " [28.67819486]\n",
            " [29.97702217]\n",
            " [29.57218333]\n",
            " [27.31822487]\n",
            " [28.17275985]\n",
            " [27.10844192]\n",
            " [29.55010258]\n",
            " [25.21984998]\n",
            " [27.10547793]\n",
            " [26.40832676]\n",
            " [27.73031491]\n",
            " [32.70765984]\n",
            " [38.65151634]\n",
            " [27.232132  ]\n",
            " [24.11939979]\n",
            " [26.1911291 ]\n",
            " [25.04999413]\n",
            " [28.98038839]\n",
            " [33.36345369]\n",
            " [34.11307558]\n",
            " [26.38906957]\n",
            " [27.24683977]\n",
            " [25.82897565]\n",
            " [26.40832676]\n",
            " [28.35843768]\n",
            " [28.00199038]\n",
            " [28.87431038]\n",
            " [29.15002375]\n",
            " [27.67166709]\n",
            " [27.67166709]\n",
            " [30.13949628]\n",
            " [39.55485259]\n",
            " [33.07221555]\n",
            " [30.14842011]\n",
            " [36.83936385]\n",
            " [32.60950875]\n",
            " [25.4421187 ]\n",
            " [25.82026364]\n",
            " [30.93316373]\n",
            " [27.78611797]\n",
            " [26.86299217]\n",
            " [31.62012789]\n",
            " [29.78393182]\n",
            " [25.01868955]\n",
            " [32.54275102]\n",
            " [28.95959446]\n",
            " [36.83936385]\n",
            " [28.17275985]\n",
            " [26.42213682]\n",
            " [28.35843768]\n",
            " [27.07102029]\n",
            " [40.14414516]\n",
            " [31.29510652]\n",
            " [28.38206642]\n",
            " [30.76655945]\n",
            " [27.93214098]\n",
            " [36.1828798 ]\n",
            " [27.73031491]\n",
            " [27.07102029]\n",
            " [31.84297326]\n",
            " [30.6811727 ]\n",
            " [30.69304546]\n",
            " [29.65437718]\n",
            " [31.24952867]\n",
            " [25.82897565]\n",
            " [28.3969062 ]\n",
            " [31.98774514]\n",
            " [26.38906957]\n",
            " [31.07444376]\n",
            " [28.92900894]\n",
            " [29.1316483 ]\n",
            " [27.8066391 ]\n",
            " [28.59411761]\n",
            " [32.44190356]\n",
            " [30.85023735]\n",
            " [30.87071515]\n",
            " [25.82046484]\n",
            " [31.29034253]\n",
            " [28.35843768]\n",
            " [26.26088316]\n",
            " [28.42930569]\n",
            " [27.08856896]\n",
            " [30.69304546]\n",
            " [29.59811513]\n",
            " [23.83202099]\n",
            " [28.38206642]\n",
            " [28.71295227]\n",
            " [29.29390519]\n",
            " [29.78372289]\n",
            " [32.50934218]\n",
            " [26.94325368]\n",
            " [28.09330993]\n",
            " [27.8066391 ]\n",
            " [28.67819486]\n",
            " [33.07221555]\n",
            " [22.30914747]\n",
            " [32.90909335]\n",
            " [24.1291746 ]\n",
            " [24.24853113]\n",
            " [36.83936385]\n",
            " [30.57120693]\n",
            " [36.77048099]\n",
            " [31.27437271]\n",
            " [27.59093559]\n",
            " [26.42213682]\n",
            " [33.38792523]\n",
            " [24.98935997]\n",
            " [29.78393182]\n",
            " [30.12805595]\n",
            " [25.2946799 ]\n",
            " [28.17576264]\n",
            " [29.97948195]\n",
            " [38.65151634]\n",
            " [30.57120693]\n",
            " [27.88952769]\n",
            " [21.97432841]\n",
            " [26.35316964]\n",
            " [28.27989577]\n",
            " [35.34861805]\n",
            " [28.02046468]\n",
            " [26.5063205 ]\n",
            " [27.12830235]\n",
            " [36.83936385]\n",
            " [23.83202099]\n",
            " [29.65437718]\n",
            " [34.2715218 ]\n",
            " [29.78372289]\n",
            " [26.55013076]\n",
            " [26.94916285]\n",
            " [27.29968017]\n",
            " [29.26022877]\n",
            " [28.0190539 ]\n",
            " [28.67819486]\n",
            " [28.28555427]\n",
            " [27.73031491]\n",
            " [26.11142797]\n",
            " [28.28555427]\n",
            " [30.03335378]\n",
            " [30.13949628]\n",
            " [29.431105  ]\n",
            " [27.95627231]\n",
            " [23.83202099]\n",
            " [27.59872439]\n",
            " [26.04848211]\n",
            " [27.65861071]\n",
            " [27.02457119]\n",
            " [24.24853113]\n",
            " [27.46322246]\n",
            " [27.44762368]\n",
            " [35.17164374]\n",
            " [33.50752349]\n",
            " [33.09921272]\n",
            " [26.38946982]\n",
            " [28.00199038]\n",
            " [32.6837555 ]\n",
            " [31.62012789]\n",
            " [27.3221113 ]\n",
            " [28.15439738]\n",
            " [38.1250906 ]\n",
            " [26.3979335 ]\n",
            " [28.28555427]\n",
            " [36.1828798 ]\n",
            " [30.14423883]\n",
            " [25.97549792]\n",
            " [29.65437718]\n",
            " [25.2946799 ]\n",
            " [31.87520302]\n",
            " [27.65861071]\n",
            " [32.17046696]\n",
            " [33.06502741]\n",
            " [42.56614437]\n",
            " [27.02457119]\n",
            " [31.27437271]\n",
            " [26.24945903]\n",
            " [29.78372289]\n",
            " [27.08856896]\n",
            " [29.78393182]\n",
            " [30.4327665 ]\n",
            " [35.34861805]\n",
            " [27.8066391 ]\n",
            " [29.70193038]\n",
            " [27.93214098]\n",
            " [26.23235429]\n",
            " [28.15439738]\n",
            " [28.43327295]\n",
            " [29.5146379 ]\n",
            " [27.95627231]\n",
            " [31.43140084]\n",
            " [34.11307558]\n",
            " [29.21692814]\n",
            " [28.95827323]\n",
            " [28.7332906 ]\n",
            " [29.55010258]\n",
            " [29.65437718]\n",
            " [26.1911291 ]\n",
            " [27.75220362]\n",
            " [30.4327665 ]\n",
            " [27.74509908]\n",
            " [27.46289413]\n",
            " [26.42213682]\n",
            " [24.98935997]\n",
            " [24.1291746 ]\n",
            " [28.67819486]\n",
            " [25.70083753]\n",
            " [26.72671806]\n",
            " [31.69465409]\n",
            " [26.24945903]\n",
            " [36.77048099]\n",
            " [32.22514957]\n",
            " [28.38206642]\n",
            " [27.44762368]\n",
            " [29.1316483 ]\n",
            " [34.44419929]\n",
            " [25.55316347]\n",
            " [25.69952167]\n",
            " [27.08856896]\n",
            " [25.45892555]\n",
            " [37.55897062]\n",
            " [29.30005359]\n",
            " [28.92900894]\n",
            " [27.48422893]\n",
            " [33.6271538 ]\n",
            " [27.67166709]\n",
            " [31.29034253]\n",
            " [29.78393182]\n",
            " [29.1316483 ]\n",
            " [28.11952504]\n",
            " [28.26790215]\n",
            " [35.17164374]\n",
            " [33.12528941]\n",
            " [25.82897565]\n",
            " [30.55376223]\n",
            " [27.65762549]\n",
            " [25.01868955]\n",
            " [35.34861805]\n",
            " [40.01827283]\n",
            " [27.97942356]\n",
            " [29.93651814]\n",
            " [23.92312719]\n",
            " [32.73446404]\n",
            " [29.78393182]\n",
            " [32.54275102]\n",
            " [32.50934218]\n",
            " [27.77232021]\n",
            " [27.4567075 ]\n",
            " [36.48349237]\n",
            " [30.12805595]\n",
            " [25.54979993]\n",
            " [28.29393321]\n",
            " [27.32454672]\n",
            " [27.12030095]\n",
            " [32.70765984]\n",
            " [32.69477662]\n",
            " [31.0655332 ]\n",
            " [31.57529153]\n",
            " [26.11142797]\n",
            " [27.1084716 ]\n",
            " [24.98935997]\n",
            " [32.17046696]\n",
            " [27.05584164]\n",
            " [35.88176659]\n",
            " [28.35843768]\n",
            " [31.29510652]\n",
            " [28.09849158]\n",
            " [29.80649995]\n",
            " [29.93651814]\n",
            " [33.38859901]\n",
            " [26.55013076]\n",
            " [37.99727424]\n",
            " [31.84297326]\n",
            " [31.96352512]\n",
            " [28.52701228]\n",
            " [27.80522982]\n",
            " [42.75753019]\n",
            " [26.35316964]\n",
            " [30.14878519]\n",
            " [32.18096782]\n",
            " [27.4567075 ]\n",
            " [27.45736771]\n",
            " [38.96788784]\n",
            " [31.27437271]\n",
            " [25.58057919]\n",
            " [30.97442323]\n",
            " [34.2715218 ]\n",
            " [26.1911291 ]\n",
            " [27.02517398]\n",
            " [27.32797534]\n",
            " [25.84709075]\n",
            " [36.77048099]\n",
            " [29.71412825]\n",
            " [28.2974868 ]\n",
            " [27.49271791]\n",
            " [31.43886607]\n",
            " [25.82026364]\n",
            " [32.90909335]\n",
            " [35.88176659]\n",
            " [26.7690766 ]\n",
            " [29.65437718]\n",
            " [30.69145902]\n",
            " [38.65151634]\n",
            " [25.17130926]\n",
            " [34.41789103]\n",
            " [29.32953899]\n",
            " [29.431105  ]\n",
            " [27.2230897 ]\n",
            " [35.88176659]\n",
            " [33.59970869]\n",
            " [25.44336032]\n",
            " [31.73911895]\n",
            " [26.55013076]\n",
            " [31.75741628]\n",
            " [37.54630801]\n",
            " [27.54194451]\n",
            " [28.3969062 ]\n",
            " [26.94325368]\n",
            " [28.2467523 ]\n",
            " [37.45877166]\n",
            " [32.99691094]\n",
            " [29.65437718]\n",
            " [38.62990141]\n",
            " [26.65992176]\n",
            " [33.35170172]\n",
            " [26.21957835]\n",
            " [28.0190539 ]\n",
            " [37.55897062]\n",
            " [27.73031491]\n",
            " [28.02046468]\n",
            " [31.24952867]\n",
            " [27.3221113 ]\n",
            " [27.81698966]\n",
            " [40.14194882]\n",
            " [27.10547793]\n",
            " [28.38764068]\n",
            " [26.3979335 ]\n",
            " [38.65151634]\n",
            " [28.38764068]\n",
            " [29.21692814]\n",
            " [27.81698966]\n",
            " [27.32890823]\n",
            " [31.5544436 ]\n",
            " [26.21535749]\n",
            " [35.85878906]\n",
            " [29.97948195]\n",
            " [31.29510652]\n",
            " [26.21535749]\n",
            " [29.10773132]\n",
            " [27.81698966]\n",
            " [25.33585996]\n",
            " [36.1828798 ]\n",
            " [31.94787641]\n",
            " [24.35923631]\n",
            " [27.80004513]\n",
            " [34.82624875]\n",
            " [28.71887081]\n",
            " [31.69465409]\n",
            " [34.91186672]\n",
            " [31.84297326]\n",
            " [31.05466008]\n",
            " [27.75220362]\n",
            " [34.11307558]\n",
            " [27.81698966]\n",
            " [30.40000412]\n",
            " [27.30154739]\n",
            " [35.76768528]\n",
            " [28.02046468]\n",
            " [25.4421187 ]\n",
            " [35.85878906]\n",
            " [27.7452506 ]\n",
            " [36.1828798 ]\n",
            " [27.13590964]\n",
            " [26.64022795]\n",
            " [29.93651814]\n",
            " [27.02457119]\n",
            " [29.97213723]\n",
            " [29.59811513]\n",
            " [33.59970869]\n",
            " [27.48422893]\n",
            " [31.24952867]\n",
            " [28.2974868 ]\n",
            " [33.18464117]\n",
            " [25.99902362]\n",
            " [29.78393182]\n",
            " [26.7236733 ]\n",
            " [26.24945903]\n",
            " [27.24683977]\n",
            " [32.51042923]\n",
            " [35.13379929]\n",
            " [30.74820337]\n",
            " [32.73446404]\n",
            " [28.85611004]\n",
            " [25.45892555]\n",
            " [28.0190539 ]\n",
            " [29.71412088]\n",
            " [28.37522404]\n",
            " [25.84709075]\n",
            " [30.69349434]\n",
            " [28.59982559]\n",
            " [26.30974867]\n",
            " [33.35170172]\n",
            " [29.94645679]\n",
            " [30.76655945]\n",
            " [21.97076706]\n",
            " [25.54979993]\n",
            " [28.07718374]\n",
            " [34.82624875]\n",
            " [31.69465409]\n",
            " [36.1828798 ]\n",
            " [28.11952504]\n",
            " [28.05021001]\n",
            " [35.0456067 ]\n",
            " [27.30154739]\n",
            " [29.65437718]\n",
            " [26.5063205 ]\n",
            " [35.13379929]\n",
            " [29.431105  ]\n",
            " [29.35325304]\n",
            " [25.58057919]\n",
            " [30.13949628]\n",
            " [25.38018225]\n",
            " [27.48422893]\n",
            " [28.20968817]\n",
            " [27.07192478]\n",
            " [31.00599195]\n",
            " [28.09330993]\n",
            " [32.17046696]\n",
            " [30.52630955]\n",
            " [31.04993557]\n",
            " [30.52178172]\n",
            " [28.29939787]\n",
            " [24.40121657]\n",
            " [27.6519574 ]\n",
            " [25.45892555]\n",
            " [21.97076706]\n",
            " [28.71819079]\n",
            " [27.02457119]\n",
            " [30.55376223]\n",
            " [30.85023735]\n",
            " [26.5063205 ]\n",
            " [33.09921272]\n",
            " [27.26570394]\n",
            " [30.55376223]\n",
            " [27.0476584 ]\n",
            " [38.62990141]\n",
            " [28.20968817]\n",
            " [37.28513244]\n",
            " [31.24952867]\n",
            " [31.73911895]\n",
            " [33.36345369]\n",
            " [21.97432841]\n",
            " [28.35843768]\n",
            " [27.19159746]\n",
            " [30.87071515]\n",
            " [28.13156404]\n",
            " [29.46576145]\n",
            " [22.30914747]\n",
            " [31.26522738]\n",
            " [26.91759756]\n",
            " [25.38018225]\n",
            " [28.13156404]\n",
            " [28.98038839]\n",
            " [27.33678602]\n",
            " [32.33738558]\n",
            " [34.11307558]\n",
            " [34.58534041]\n",
            " [27.80522982]\n",
            " [32.54242885]\n",
            " [29.26022877]\n",
            " [31.57529153]\n",
            " [30.4651208 ]\n",
            " [31.57529153]\n",
            " [31.22787104]\n",
            " [26.04848211]\n",
            " [29.9349352 ]\n",
            " [26.42213682]\n",
            " [27.58701311]\n",
            " [36.77048099]\n",
            " [27.02457119]\n",
            " [31.22787104]\n",
            " [30.4327665 ]\n",
            " [29.86807275]\n",
            " [28.16680234]\n",
            " [28.78030066]\n",
            " [26.93478911]\n",
            " [28.01165445]\n",
            " [30.76655945]\n",
            " [28.52701228]\n",
            " [27.1084716 ]\n",
            " [30.08408206]\n",
            " [26.23235429]\n",
            " [27.60088274]\n",
            " [29.78393182]\n",
            " [30.97442323]\n",
            " [25.84203661]\n",
            " [25.58057919]\n",
            " [27.7452506 ]\n",
            " [27.08856896]\n",
            " [30.76655945]\n",
            " [36.83936385]\n",
            " [33.09676687]\n",
            " [27.10547793]\n",
            " [31.69465409]\n",
            " [27.42919668]\n",
            " [34.48048353]\n",
            " [32.22514957]\n",
            " [30.42674539]\n",
            " [27.13590964]\n",
            " [29.35325304]\n",
            " [30.19993611]\n",
            " [27.94112069]\n",
            " [30.42674539]\n",
            " [30.95882949]\n",
            " [27.3221113 ]\n",
            " [27.05584164]\n",
            " [28.59982559]\n",
            " [28.56880732]\n",
            " [37.28513244]\n",
            " [28.78689047]\n",
            " [30.85023735]\n",
            " [26.77536901]\n",
            " [29.55010258]\n",
            " [27.13590964]\n",
            " [27.15647689]\n",
            " [31.07444376]\n",
            " [30.87939123]\n",
            " [23.83202099]\n",
            " [28.0959925 ]\n",
            " [28.37522404]\n",
            " [35.85878906]\n",
            " [30.69304546]\n",
            " [29.97213723]\n",
            " [26.98356057]\n",
            " [28.07718374]\n",
            " [28.2974868 ]\n",
            " [24.81227453]\n",
            " [31.82690295]\n",
            " [32.73446404]\n",
            " [31.57529153]\n",
            " [32.73446404]\n",
            " [38.65151634]\n",
            " [31.0002928 ]\n",
            " [28.15001375]\n",
            " [27.15647689]\n",
            " [22.30914747]\n",
            " [25.28500517]\n",
            " [37.28513244]\n",
            " [30.61342313]\n",
            " [26.11142797]\n",
            " [30.93316373]\n",
            " [35.88176659]\n",
            " [26.5063205 ]\n",
            " [31.63547745]\n",
            " [27.59093559]\n",
            " [28.20164567]\n",
            " [27.44762368]\n",
            " [31.73911895]\n",
            " [32.99691094]\n",
            " [27.32454672]\n",
            " [32.64098763]\n",
            " [27.02517398]\n",
            " [30.40000412]\n",
            " [26.21535749]\n",
            " [40.14194882]\n",
            " [30.14423883]\n",
            " [30.87939123]\n",
            " [30.25474388]\n",
            " [28.09330993]\n",
            " [28.95959446]\n",
            " [25.82897565]\n",
            " [26.38906957]\n",
            " [31.04993557]\n",
            " [31.75741628]\n",
            " [25.04999413]\n",
            " [28.09849158]\n",
            " [25.45892555]\n",
            " [26.55251858]\n",
            " [31.26480239]\n",
            " [36.25264066]\n",
            " [27.58701311]\n",
            " [28.78030066]\n",
            " [27.232132  ]\n",
            " [30.08408206]\n",
            " [27.24683977]\n",
            " [40.01827283]\n",
            " [28.11952504]\n",
            " [26.93478911]\n",
            " [28.29914258]\n",
            " [31.26480239]\n",
            " [27.13590964]\n",
            " [27.42919668]\n",
            " [27.88952769]\n",
            " [28.37522404]\n",
            " [27.13271412]\n",
            " [36.83936385]\n",
            " [29.26022877]\n",
            " [30.62497658]\n",
            " [30.14423883]\n",
            " [27.73031491]\n",
            " [39.55485259]\n",
            " [26.40383762]\n",
            " [27.2230897 ]\n",
            " [28.07361486]\n",
            " [32.73446404]\n",
            " [28.02046468]\n",
            " [27.12830235]\n",
            " [31.26480239]\n",
            " [31.87520302]\n",
            " [35.88176659]\n",
            " [24.98935997]\n",
            " [30.55376223]\n",
            " [25.33585996]\n",
            " [27.84078402]\n",
            " [30.25474388]\n",
            " [29.29390519]\n",
            " [28.71816394]\n",
            " [31.27437271]\n",
            " [38.62990141]\n",
            " [32.92565359]\n",
            " [31.69465409]\n",
            " [31.0655332 ]\n",
            " [27.78241118]\n",
            " [25.11901509]\n",
            " [29.93651814]\n",
            " [29.59811513]\n",
            " [30.08408206]\n",
            " [31.76688432]\n",
            " [27.232132  ]\n",
            " [33.72571449]\n",
            " [18.11419532]\n",
            " [31.57529153]\n",
            " [29.78372289]\n",
            " [28.38764068]\n",
            " [27.65861071]\n",
            " [27.13271412]\n",
            " [27.15647689]\n",
            " [29.93651814]\n",
            " [32.50934218]\n",
            " [27.12030095]\n",
            " [22.04860564]\n",
            " [27.02126525]\n",
            " [27.32890823]\n",
            " [28.71295227]\n",
            " [23.83202099]\n",
            " [27.80522982]\n",
            " [29.59811513]\n",
            " [31.43886607]\n",
            " [30.4327665 ]\n",
            " [28.17576264]\n",
            " [22.04860564]\n",
            " [33.6271538 ]\n",
            " [32.54242885]\n",
            " [37.55961897]\n",
            " [28.3969062 ]\n",
            " [34.44419929]\n",
            " [28.02916799]\n",
            " [24.44020381]\n",
            " [33.49446707]\n",
            " [26.26088316]\n",
            " [30.69304546]\n",
            " [26.13631276]\n",
            " [27.13590964]\n",
            " [27.05584164]\n",
            " [27.74509908]\n",
            " [31.24952867]\n",
            " [28.42945896]\n",
            " [22.8185399 ]\n",
            " [43.51124778]\n",
            " [33.13252003]\n",
            " [28.2974868 ]\n",
            " [27.7452506 ]\n",
            " [27.08617452]\n",
            " [27.12030095]\n",
            " [27.13271412]\n",
            " [23.92312719]]\n"
          ]
        }
      ]
    },
    {
      "cell_type": "code",
      "source": [
        ""
      ],
      "metadata": {
        "id": "MowIs3-IzBxD"
      },
      "execution_count": null,
      "outputs": []
    },
    {
      "cell_type": "code",
      "source": [
        "from sklearn import metrics\n",
        "import numpy as np\n",
        "print('Mean Absolute Error:', metrics.mean_absolute_error(y_test, y_pred_svr))\n",
        "print('Mean Squared Error:', metrics.mean_squared_error(y_test, y_pred_svr))\n",
        "print('Root Mean Squared Error:', np.sqrt(metrics.mean_squared_error(y_test, y_pred_svr)))"
      ],
      "metadata": {
        "colab": {
          "base_uri": "https://localhost:8080/"
        },
        "id": "RX8_-_mmcDVj",
        "outputId": "0db0f8a0-0249-4ba3-a27e-3bb50dc43d5f"
      },
      "execution_count": null,
      "outputs": [
        {
          "output_type": "stream",
          "name": "stdout",
          "text": [
            "Mean Absolute Error: 0.5847136888696193\n",
            "Mean Squared Error: 0.8388650710629422\n",
            "Root Mean Squared Error: 0.9158957752184155\n"
          ]
        }
      ]
    },
    {
      "cell_type": "code",
      "source": [
        "from sklearn.metrics import r2_score\n",
        "r2_score(y_test,y_pred_svr)"
      ],
      "metadata": {
        "colab": {
          "base_uri": "https://localhost:8080/"
        },
        "id": "4F827U41syse",
        "outputId": "cd961c27-b793-4f39-c0fc-18fb5985daf6"
      },
      "execution_count": null,
      "outputs": [
        {
          "output_type": "execute_result",
          "data": {
            "text/plain": [
              "0.15003175988940687"
            ]
          },
          "metadata": {},
          "execution_count": 253
        }
      ]
    },
    {
      "cell_type": "code",
      "source": [
        "y_pred_svr = y_pred_svr.flatten()\n",
        "y_test = y_test.flatten()"
      ],
      "metadata": {
        "id": "uo8n3kpbxrse"
      },
      "execution_count": null,
      "outputs": []
    },
    {
      "cell_type": "code",
      "source": [
        "X_sv= pd.DataFrame({\"Actual\": y_test, \"Predicted\": y_pred_svr})\n",
        "X_sv"
      ],
      "metadata": {
        "colab": {
          "base_uri": "https://localhost:8080/",
          "height": 423
        },
        "id": "L0bUKd572p39",
        "outputId": "a6359fa6-c067-4496-da36-f3f181c2d0e5"
      },
      "execution_count": null,
      "outputs": [
        {
          "output_type": "execute_result",
          "data": {
            "text/html": [
              "\n",
              "  <div id=\"df-55b25aa9-e9fc-4e21-82f9-04731ab48ec7\">\n",
              "    <div class=\"colab-df-container\">\n",
              "      <div>\n",
              "<style scoped>\n",
              "    .dataframe tbody tr th:only-of-type {\n",
              "        vertical-align: middle;\n",
              "    }\n",
              "\n",
              "    .dataframe tbody tr th {\n",
              "        vertical-align: top;\n",
              "    }\n",
              "\n",
              "    .dataframe thead th {\n",
              "        text-align: right;\n",
              "    }\n",
              "</style>\n",
              "<table border=\"1\" class=\"dataframe\">\n",
              "  <thead>\n",
              "    <tr style=\"text-align: right;\">\n",
              "      <th></th>\n",
              "      <th>Actual</th>\n",
              "      <th>Predicted</th>\n",
              "    </tr>\n",
              "  </thead>\n",
              "  <tbody>\n",
              "    <tr>\n",
              "      <th>0</th>\n",
              "      <td>-0.562255</td>\n",
              "      <td>0.141355</td>\n",
              "    </tr>\n",
              "    <tr>\n",
              "      <th>1</th>\n",
              "      <td>0.210636</td>\n",
              "      <td>-0.396133</td>\n",
              "    </tr>\n",
              "    <tr>\n",
              "      <th>2</th>\n",
              "      <td>-0.667119</td>\n",
              "      <td>-0.872602</td>\n",
              "    </tr>\n",
              "    <tr>\n",
              "      <th>3</th>\n",
              "      <td>0.936642</td>\n",
              "      <td>-0.119631</td>\n",
              "    </tr>\n",
              "    <tr>\n",
              "      <th>4</th>\n",
              "      <td>0.566489</td>\n",
              "      <td>0.041972</td>\n",
              "    </tr>\n",
              "    <tr>\n",
              "      <th>...</th>\n",
              "      <td>...</td>\n",
              "      <td>...</td>\n",
              "    </tr>\n",
              "    <tr>\n",
              "      <th>813</th>\n",
              "      <td>-0.467157</td>\n",
              "      <td>-0.217478</td>\n",
              "    </tr>\n",
              "    <tr>\n",
              "      <th>814</th>\n",
              "      <td>-0.256177</td>\n",
              "      <td>-0.268978</td>\n",
              "    </tr>\n",
              "    <tr>\n",
              "      <th>815</th>\n",
              "      <td>-0.352915</td>\n",
              "      <td>-0.266312</td>\n",
              "    </tr>\n",
              "    <tr>\n",
              "      <th>816</th>\n",
              "      <td>2.120397</td>\n",
              "      <td>-0.265342</td>\n",
              "    </tr>\n",
              "    <tr>\n",
              "      <th>817</th>\n",
              "      <td>0.442871</td>\n",
              "      <td>-0.516141</td>\n",
              "    </tr>\n",
              "  </tbody>\n",
              "</table>\n",
              "<p>818 rows × 2 columns</p>\n",
              "</div>\n",
              "      <button class=\"colab-df-convert\" onclick=\"convertToInteractive('df-55b25aa9-e9fc-4e21-82f9-04731ab48ec7')\"\n",
              "              title=\"Convert this dataframe to an interactive table.\"\n",
              "              style=\"display:none;\">\n",
              "        \n",
              "  <svg xmlns=\"http://www.w3.org/2000/svg\" height=\"24px\"viewBox=\"0 0 24 24\"\n",
              "       width=\"24px\">\n",
              "    <path d=\"M0 0h24v24H0V0z\" fill=\"none\"/>\n",
              "    <path d=\"M18.56 5.44l.94 2.06.94-2.06 2.06-.94-2.06-.94-.94-2.06-.94 2.06-2.06.94zm-11 1L8.5 8.5l.94-2.06 2.06-.94-2.06-.94L8.5 2.5l-.94 2.06-2.06.94zm10 10l.94 2.06.94-2.06 2.06-.94-2.06-.94-.94-2.06-.94 2.06-2.06.94z\"/><path d=\"M17.41 7.96l-1.37-1.37c-.4-.4-.92-.59-1.43-.59-.52 0-1.04.2-1.43.59L10.3 9.45l-7.72 7.72c-.78.78-.78 2.05 0 2.83L4 21.41c.39.39.9.59 1.41.59.51 0 1.02-.2 1.41-.59l7.78-7.78 2.81-2.81c.8-.78.8-2.07 0-2.86zM5.41 20L4 18.59l7.72-7.72 1.47 1.35L5.41 20z\"/>\n",
              "  </svg>\n",
              "      </button>\n",
              "      \n",
              "  <style>\n",
              "    .colab-df-container {\n",
              "      display:flex;\n",
              "      flex-wrap:wrap;\n",
              "      gap: 12px;\n",
              "    }\n",
              "\n",
              "    .colab-df-convert {\n",
              "      background-color: #E8F0FE;\n",
              "      border: none;\n",
              "      border-radius: 50%;\n",
              "      cursor: pointer;\n",
              "      display: none;\n",
              "      fill: #1967D2;\n",
              "      height: 32px;\n",
              "      padding: 0 0 0 0;\n",
              "      width: 32px;\n",
              "    }\n",
              "\n",
              "    .colab-df-convert:hover {\n",
              "      background-color: #E2EBFA;\n",
              "      box-shadow: 0px 1px 2px rgba(60, 64, 67, 0.3), 0px 1px 3px 1px rgba(60, 64, 67, 0.15);\n",
              "      fill: #174EA6;\n",
              "    }\n",
              "\n",
              "    [theme=dark] .colab-df-convert {\n",
              "      background-color: #3B4455;\n",
              "      fill: #D2E3FC;\n",
              "    }\n",
              "\n",
              "    [theme=dark] .colab-df-convert:hover {\n",
              "      background-color: #434B5C;\n",
              "      box-shadow: 0px 1px 3px 1px rgba(0, 0, 0, 0.15);\n",
              "      filter: drop-shadow(0px 1px 2px rgba(0, 0, 0, 0.3));\n",
              "      fill: #FFFFFF;\n",
              "    }\n",
              "  </style>\n",
              "\n",
              "      <script>\n",
              "        const buttonEl =\n",
              "          document.querySelector('#df-55b25aa9-e9fc-4e21-82f9-04731ab48ec7 button.colab-df-convert');\n",
              "        buttonEl.style.display =\n",
              "          google.colab.kernel.accessAllowed ? 'block' : 'none';\n",
              "\n",
              "        async function convertToInteractive(key) {\n",
              "          const element = document.querySelector('#df-55b25aa9-e9fc-4e21-82f9-04731ab48ec7');\n",
              "          const dataTable =\n",
              "            await google.colab.kernel.invokeFunction('convertToInteractive',\n",
              "                                                     [key], {});\n",
              "          if (!dataTable) return;\n",
              "\n",
              "          const docLinkHtml = 'Like what you see? Visit the ' +\n",
              "            '<a target=\"_blank\" href=https://colab.research.google.com/notebooks/data_table.ipynb>data table notebook</a>'\n",
              "            + ' to learn more about interactive tables.';\n",
              "          element.innerHTML = '';\n",
              "          dataTable['output_type'] = 'display_data';\n",
              "          await google.colab.output.renderOutput(dataTable, element);\n",
              "          const docLink = document.createElement('div');\n",
              "          docLink.innerHTML = docLinkHtml;\n",
              "          element.appendChild(docLink);\n",
              "        }\n",
              "      </script>\n",
              "    </div>\n",
              "  </div>\n",
              "  "
            ],
            "text/plain": [
              "       Actual  Predicted\n",
              "0   -0.562255   0.141355\n",
              "1    0.210636  -0.396133\n",
              "2   -0.667119  -0.872602\n",
              "3    0.936642  -0.119631\n",
              "4    0.566489   0.041972\n",
              "..        ...        ...\n",
              "813 -0.467157  -0.217478\n",
              "814 -0.256177  -0.268978\n",
              "815 -0.352915  -0.266312\n",
              "816  2.120397  -0.265342\n",
              "817  0.442871  -0.516141\n",
              "\n",
              "[818 rows x 2 columns]"
            ]
          },
          "metadata": {},
          "execution_count": 255
        }
      ]
    },
    {
      "cell_type": "code",
      "source": [
        "X_svr = X_sv.copy()\n",
        "X_svr.to_csv('act_predsvr.csv')\n",
        "!cp actual_predicted.csv \"drive/My Drive/\""
      ],
      "metadata": {
        "id": "FiGSOJBX278O"
      },
      "execution_count": null,
      "outputs": []
    },
    {
      "cell_type": "code",
      "source": [
        "from sklearn.model_selection import KFold\n",
        "kfold=KFold(n_splits=10, shuffle=True, random_state=0)"
      ],
      "metadata": {
        "id": "ajVPdMYSuDE2"
      },
      "execution_count": null,
      "outputs": []
    },
    {
      "cell_type": "code",
      "source": [
        "linear_svr=SVR(kernel='linear')\n",
        "linear_scores = cross_val_score(linear_svr, X_train, y_train, cv=kfold)"
      ],
      "metadata": {
        "colab": {
          "base_uri": "https://localhost:8080/"
        },
        "id": "cKIPYZCKuVQt",
        "outputId": "320f7162-7a76-41e1-df29-6dd55812bf29"
      },
      "execution_count": null,
      "outputs": [
        {
          "output_type": "stream",
          "name": "stderr",
          "text": [
            "/usr/local/lib/python3.7/dist-packages/sklearn/utils/validation.py:985: DataConversionWarning: A column-vector y was passed when a 1d array was expected. Please change the shape of y to (n_samples, ), for example using ravel().\n",
            "  y = column_or_1d(y, warn=True)\n",
            "/usr/local/lib/python3.7/dist-packages/sklearn/utils/validation.py:985: DataConversionWarning: A column-vector y was passed when a 1d array was expected. Please change the shape of y to (n_samples, ), for example using ravel().\n",
            "  y = column_or_1d(y, warn=True)\n",
            "/usr/local/lib/python3.7/dist-packages/sklearn/utils/validation.py:985: DataConversionWarning: A column-vector y was passed when a 1d array was expected. Please change the shape of y to (n_samples, ), for example using ravel().\n",
            "  y = column_or_1d(y, warn=True)\n",
            "/usr/local/lib/python3.7/dist-packages/sklearn/utils/validation.py:985: DataConversionWarning: A column-vector y was passed when a 1d array was expected. Please change the shape of y to (n_samples, ), for example using ravel().\n",
            "  y = column_or_1d(y, warn=True)\n",
            "/usr/local/lib/python3.7/dist-packages/sklearn/utils/validation.py:985: DataConversionWarning: A column-vector y was passed when a 1d array was expected. Please change the shape of y to (n_samples, ), for example using ravel().\n",
            "  y = column_or_1d(y, warn=True)\n",
            "/usr/local/lib/python3.7/dist-packages/sklearn/utils/validation.py:985: DataConversionWarning: A column-vector y was passed when a 1d array was expected. Please change the shape of y to (n_samples, ), for example using ravel().\n",
            "  y = column_or_1d(y, warn=True)\n",
            "/usr/local/lib/python3.7/dist-packages/sklearn/utils/validation.py:985: DataConversionWarning: A column-vector y was passed when a 1d array was expected. Please change the shape of y to (n_samples, ), for example using ravel().\n",
            "  y = column_or_1d(y, warn=True)\n",
            "/usr/local/lib/python3.7/dist-packages/sklearn/utils/validation.py:985: DataConversionWarning: A column-vector y was passed when a 1d array was expected. Please change the shape of y to (n_samples, ), for example using ravel().\n",
            "  y = column_or_1d(y, warn=True)\n",
            "/usr/local/lib/python3.7/dist-packages/sklearn/utils/validation.py:985: DataConversionWarning: A column-vector y was passed when a 1d array was expected. Please change the shape of y to (n_samples, ), for example using ravel().\n",
            "  y = column_or_1d(y, warn=True)\n",
            "/usr/local/lib/python3.7/dist-packages/sklearn/utils/validation.py:985: DataConversionWarning: A column-vector y was passed when a 1d array was expected. Please change the shape of y to (n_samples, ), for example using ravel().\n",
            "  y = column_or_1d(y, warn=True)\n"
          ]
        }
      ]
    },
    {
      "cell_type": "code",
      "source": [
        "print('Stratified cross-validation scores with linear kernel:\\n\\n{}'.format(linear_scores))\n"
      ],
      "metadata": {
        "colab": {
          "base_uri": "https://localhost:8080/"
        },
        "id": "loptzmVAX8jI",
        "outputId": "b546fc82-6916-487a-e15f-a67ab2037934"
      },
      "execution_count": null,
      "outputs": [
        {
          "output_type": "stream",
          "name": "stdout",
          "text": [
            "Stratified cross-validation scores with linear kernel:\n",
            "\n",
            "[0.07758965 0.09235914 0.11547636 0.09409645 0.13535347 0.09199763\n",
            " 0.13772488 0.06057158 0.087087   0.09154504]\n"
          ]
        }
      ]
    },
    {
      "cell_type": "code",
      "source": [
        "print('Average stratified cross-validation score with linear kernel:{:.4f}'.format(linear_scores.mean()))\n"
      ],
      "metadata": {
        "colab": {
          "base_uri": "https://localhost:8080/"
        },
        "id": "41RSALE8lVVz",
        "outputId": "041c0d36-a174-4cc0-801a-5a530ad7104c"
      },
      "execution_count": null,
      "outputs": [
        {
          "output_type": "stream",
          "name": "stdout",
          "text": [
            "Average stratified cross-validation score with linear kernel:0.0984\n"
          ]
        }
      ]
    },
    {
      "cell_type": "code",
      "source": [
        ""
      ],
      "metadata": {
        "id": "lcPtdFSyYOCM"
      },
      "execution_count": null,
      "outputs": []
    },
    {
      "cell_type": "code",
      "source": [
        ""
      ],
      "metadata": {
        "id": "9D5pVN3eZWkk"
      },
      "execution_count": null,
      "outputs": []
    },
    {
      "cell_type": "markdown",
      "source": [
        "Gradient Boost"
      ],
      "metadata": {
        "id": "T0hPVdZiIWjs"
      }
    },
    {
      "cell_type": "code",
      "source": [
        "X1 = df.drop([\"Lon\",\"Lat\",\"PM2.5\"],axis='columns')\n",
        "y = df['PM2.5'].values"
      ],
      "metadata": {
        "id": "YPocAMMjQXKR"
      },
      "execution_count": null,
      "outputs": []
    },
    {
      "cell_type": "code",
      "source": [
        "from sklearn.datasets import make_regression\n",
        "from sklearn.ensemble import GradientBoostingRegressor\n",
        "from sklearn.model_selection import train_test_split\n",
        "X_train, X_test, y_train, y_test = train_test_split(X1, y, test_size=0.2)"
      ],
      "metadata": {
        "id": "HeSsMhF7IbCl"
      },
      "execution_count": null,
      "outputs": []
    },
    {
      "cell_type": "code",
      "source": [
        "GBmodel = GradientBoostingRegressor(min_samples_leaf= 4, learning_rate= 0.1, max_depth= 4)\n",
        "GBmodel.fit(X_train,y_train)"
      ],
      "metadata": {
        "colab": {
          "base_uri": "https://localhost:8080/"
        },
        "id": "EtYKm8PuP60S",
        "outputId": "e7197bc5-f7dc-4a9b-f43e-8931955ffc87"
      },
      "execution_count": null,
      "outputs": [
        {
          "output_type": "execute_result",
          "data": {
            "text/plain": [
              "GradientBoostingRegressor(max_depth=4, min_samples_leaf=4)"
            ]
          },
          "metadata": {},
          "execution_count": 224
        }
      ]
    },
    {
      "cell_type": "code",
      "source": [
        "sns.distplot(GBmodel.predict(X_test),kde=None)"
      ],
      "metadata": {
        "colab": {
          "base_uri": "https://localhost:8080/",
          "height": 337
        },
        "id": "oh1s2qvrQfLA",
        "outputId": "cb5876d3-e23c-4a8a-bf94-959122e59d5e"
      },
      "execution_count": null,
      "outputs": [
        {
          "output_type": "stream",
          "name": "stderr",
          "text": [
            "/usr/local/lib/python3.7/dist-packages/seaborn/distributions.py:2619: FutureWarning: `distplot` is a deprecated function and will be removed in a future version. Please adapt your code to use either `displot` (a figure-level function with similar flexibility) or `histplot` (an axes-level function for histograms).\n",
            "  warnings.warn(msg, FutureWarning)\n"
          ]
        },
        {
          "output_type": "execute_result",
          "data": {
            "text/plain": [
              "<matplotlib.axes._subplots.AxesSubplot at 0x7fbec4daa850>"
            ]
          },
          "metadata": {},
          "execution_count": 225
        },
        {
          "output_type": "display_data",
          "data": {
            "image/png": "[encoded data removed]",
            "text/plain": [
              "<Figure size 432x288 with 1 Axes>"
            ]
          },
          "metadata": {
            "needs_background": "light"
          }
        }
      ]
    },
    {
      "cell_type": "code",
      "source": [
        "y_pred_gb = GBmodel.predict(X_test)"
      ],
      "metadata": {
        "id": "3x0bVWBBUZcI"
      },
      "execution_count": null,
      "outputs": []
    },
    {
      "cell_type": "code",
      "source": [
        "print(GBmodel.score(X_test, y_test))"
      ],
      "metadata": {
        "colab": {
          "base_uri": "https://localhost:8080/"
        },
        "id": "CD7oM3ExQkfV",
        "outputId": "7f115d85-fcd2-4100-89a4-007d38b2d855"
      },
      "execution_count": null,
      "outputs": [
        {
          "output_type": "stream",
          "name": "stdout",
          "text": [
            "0.8661186964683817\n"
          ]
        }
      ]
    },
    {
      "cell_type": "code",
      "source": [
        "from sklearn import metrics\n",
        "import numpy as np\n",
        "print('Mean Absolute Error:', metrics.mean_absolute_error(y_test, y_pred_gb))\n",
        "print('Mean Squared Error:', metrics.mean_squared_error(y_test, y_pred_gb))\n",
        "print('Root Mean Squared Error:', np.sqrt(metrics.mean_squared_error(y_test, y_pred_gb)))\n",
        "\n",
        "from sklearn.metrics import r2_score\n",
        "r2_score(y_test, y_pred_gb)"
      ],
      "metadata": {
        "colab": {
          "base_uri": "https://localhost:8080/"
        },
        "id": "m2m1NEylVJCa",
        "outputId": "55319936-af77-48b9-cc50-e41f13b44825"
      },
      "execution_count": null,
      "outputs": [
        {
          "output_type": "stream",
          "name": "stdout",
          "text": [
            "Mean Absolute Error: 3.167494907219021\n",
            "Mean Squared Error: 22.405450099626673\n",
            "Root Mean Squared Error: 4.733439563322497\n"
          ]
        },
        {
          "output_type": "execute_result",
          "data": {
            "text/plain": [
              "0.8661186964683817"
            ]
          },
          "metadata": {},
          "execution_count": 228
        }
      ]
    },
    {
      "cell_type": "code",
      "source": [
        ""
      ],
      "metadata": {
        "id": "9BbrI1h3Sn0R"
      },
      "execution_count": null,
      "outputs": []
    },
    {
      "cell_type": "code",
      "source": [
        "X_g= pd.DataFrame({\"Actual\": y_test, \"Predicted\": y_pred_gb})\n",
        "X_g"
      ],
      "metadata": {
        "id": "WIWGkv2HUEbA",
        "colab": {
          "base_uri": "https://localhost:8080/",
          "height": 423
        },
        "outputId": "0caa2995-1cf7-4fcc-de05-0267b6e467fb"
      },
      "execution_count": null,
      "outputs": [
        {
          "output_type": "execute_result",
          "data": {
            "text/html": [
              "\n",
              "  <div id=\"df-aee82192-8178-44fc-9484-e84c6e964234\">\n",
              "    <div class=\"colab-df-container\">\n",
              "      <div>\n",
              "<style scoped>\n",
              "    .dataframe tbody tr th:only-of-type {\n",
              "        vertical-align: middle;\n",
              "    }\n",
              "\n",
              "    .dataframe tbody tr th {\n",
              "        vertical-align: top;\n",
              "    }\n",
              "\n",
              "    .dataframe thead th {\n",
              "        text-align: right;\n",
              "    }\n",
              "</style>\n",
              "<table border=\"1\" class=\"dataframe\">\n",
              "  <thead>\n",
              "    <tr style=\"text-align: right;\">\n",
              "      <th></th>\n",
              "      <th>Actual</th>\n",
              "      <th>Predicted</th>\n",
              "    </tr>\n",
              "  </thead>\n",
              "  <tbody>\n",
              "    <tr>\n",
              "      <th>0</th>\n",
              "      <td>26.008</td>\n",
              "      <td>26.194087</td>\n",
              "    </tr>\n",
              "    <tr>\n",
              "      <th>1</th>\n",
              "      <td>22.786</td>\n",
              "      <td>25.635059</td>\n",
              "    </tr>\n",
              "    <tr>\n",
              "      <th>2</th>\n",
              "      <td>35.129</td>\n",
              "      <td>34.585565</td>\n",
              "    </tr>\n",
              "    <tr>\n",
              "      <th>3</th>\n",
              "      <td>20.684</td>\n",
              "      <td>24.542848</td>\n",
              "    </tr>\n",
              "    <tr>\n",
              "      <th>4</th>\n",
              "      <td>27.321</td>\n",
              "      <td>27.445184</td>\n",
              "    </tr>\n",
              "    <tr>\n",
              "      <th>...</th>\n",
              "      <td>...</td>\n",
              "      <td>...</td>\n",
              "    </tr>\n",
              "    <tr>\n",
              "      <th>813</th>\n",
              "      <td>32.722</td>\n",
              "      <td>30.813876</td>\n",
              "    </tr>\n",
              "    <tr>\n",
              "      <th>814</th>\n",
              "      <td>24.507</td>\n",
              "      <td>28.254377</td>\n",
              "    </tr>\n",
              "    <tr>\n",
              "      <th>815</th>\n",
              "      <td>27.250</td>\n",
              "      <td>30.014901</td>\n",
              "    </tr>\n",
              "    <tr>\n",
              "      <th>816</th>\n",
              "      <td>58.009</td>\n",
              "      <td>54.572543</td>\n",
              "    </tr>\n",
              "    <tr>\n",
              "      <th>817</th>\n",
              "      <td>30.113</td>\n",
              "      <td>31.366534</td>\n",
              "    </tr>\n",
              "  </tbody>\n",
              "</table>\n",
              "<p>818 rows × 2 columns</p>\n",
              "</div>\n",
              "      <button class=\"colab-df-convert\" onclick=\"convertToInteractive('df-aee82192-8178-44fc-9484-e84c6e964234')\"\n",
              "              title=\"Convert this dataframe to an interactive table.\"\n",
              "              style=\"display:none;\">\n",
              "        \n",
              "  <svg xmlns=\"http://www.w3.org/2000/svg\" height=\"24px\"viewBox=\"0 0 24 24\"\n",
              "       width=\"24px\">\n",
              "    <path d=\"M0 0h24v24H0V0z\" fill=\"none\"/>\n",
              "    <path d=\"M18.56 5.44l.94 2.06.94-2.06 2.06-.94-2.06-.94-.94-2.06-.94 2.06-2.06.94zm-11 1L8.5 8.5l.94-2.06 2.06-.94-2.06-.94L8.5 2.5l-.94 2.06-2.06.94zm10 10l.94 2.06.94-2.06 2.06-.94-2.06-.94-.94-2.06-.94 2.06-2.06.94z\"/><path d=\"M17.41 7.96l-1.37-1.37c-.4-.4-.92-.59-1.43-.59-.52 0-1.04.2-1.43.59L10.3 9.45l-7.72 7.72c-.78.78-.78 2.05 0 2.83L4 21.41c.39.39.9.59 1.41.59.51 0 1.02-.2 1.41-.59l7.78-7.78 2.81-2.81c.8-.78.8-2.07 0-2.86zM5.41 20L4 18.59l7.72-7.72 1.47 1.35L5.41 20z\"/>\n",
              "  </svg>\n",
              "      </button>\n",
              "      \n",
              "  <style>\n",
              "    .colab-df-container {\n",
              "      display:flex;\n",
              "      flex-wrap:wrap;\n",
              "      gap: 12px;\n",
              "    }\n",
              "\n",
              "    .colab-df-convert {\n",
              "      background-color: #E8F0FE;\n",
              "      border: none;\n",
              "      border-radius: 50%;\n",
              "      cursor: pointer;\n",
              "      display: none;\n",
              "      fill: #1967D2;\n",
              "      height: 32px;\n",
              "      padding: 0 0 0 0;\n",
              "      width: 32px;\n",
              "    }\n",
              "\n",
              "    .colab-df-convert:hover {\n",
              "      background-color: #E2EBFA;\n",
              "      box-shadow: 0px 1px 2px rgba(60, 64, 67, 0.3), 0px 1px 3px 1px rgba(60, 64, 67, 0.15);\n",
              "      fill: #174EA6;\n",
              "    }\n",
              "\n",
              "    [theme=dark] .colab-df-convert {\n",
              "      background-color: #3B4455;\n",
              "      fill: #D2E3FC;\n",
              "    }\n",
              "\n",
              "    [theme=dark] .colab-df-convert:hover {\n",
              "      background-color: #434B5C;\n",
              "      box-shadow: 0px 1px 3px 1px rgba(0, 0, 0, 0.15);\n",
              "      filter: drop-shadow(0px 1px 2px rgba(0, 0, 0, 0.3));\n",
              "      fill: #FFFFFF;\n",
              "    }\n",
              "  </style>\n",
              "\n",
              "      <script>\n",
              "        const buttonEl =\n",
              "          document.querySelector('#df-aee82192-8178-44fc-9484-e84c6e964234 button.colab-df-convert');\n",
              "        buttonEl.style.display =\n",
              "          google.colab.kernel.accessAllowed ? 'block' : 'none';\n",
              "\n",
              "        async function convertToInteractive(key) {\n",
              "          const element = document.querySelector('#df-aee82192-8178-44fc-9484-e84c6e964234');\n",
              "          const dataTable =\n",
              "            await google.colab.kernel.invokeFunction('convertToInteractive',\n",
              "                                                     [key], {});\n",
              "          if (!dataTable) return;\n",
              "\n",
              "          const docLinkHtml = 'Like what you see? Visit the ' +\n",
              "            '<a target=\"_blank\" href=https://colab.research.google.com/notebooks/data_table.ipynb>data table notebook</a>'\n",
              "            + ' to learn more about interactive tables.';\n",
              "          element.innerHTML = '';\n",
              "          dataTable['output_type'] = 'display_data';\n",
              "          await google.colab.output.renderOutput(dataTable, element);\n",
              "          const docLink = document.createElement('div');\n",
              "          docLink.innerHTML = docLinkHtml;\n",
              "          element.appendChild(docLink);\n",
              "        }\n",
              "      </script>\n",
              "    </div>\n",
              "  </div>\n",
              "  "
            ],
            "text/plain": [
              "     Actual  Predicted\n",
              "0    26.008  26.194087\n",
              "1    22.786  25.635059\n",
              "2    35.129  34.585565\n",
              "3    20.684  24.542848\n",
              "4    27.321  27.445184\n",
              "..      ...        ...\n",
              "813  32.722  30.813876\n",
              "814  24.507  28.254377\n",
              "815  27.250  30.014901\n",
              "816  58.009  54.572543\n",
              "817  30.113  31.366534\n",
              "\n",
              "[818 rows x 2 columns]"
            ]
          },
          "metadata": {},
          "execution_count": 229
        }
      ]
    },
    {
      "cell_type": "code",
      "source": [
        "X_gb = X_g.copy()\n",
        "X_gb.to_csv('act_predgb.csv')\n",
        "!cp actual_predicted.csv \"drive/My Drive/\""
      ],
      "metadata": {
        "id": "v-w0AsygblLv"
      },
      "execution_count": null,
      "outputs": []
    },
    {
      "cell_type": "code",
      "source": [
        "from sklearn.model_selection import cross_val_score\n",
        "GB_accuracies = cross_val_score(estimator = GBmodel, X = X_train, y = y_train, scoring='r2', cv = 10)\n",
        "print(\"Mean_GB_Acc : \", GB_accuracies.mean())"
      ],
      "metadata": {
        "colab": {
          "base_uri": "https://localhost:8080/"
        },
        "id": "h3LdZMK1b9F4",
        "outputId": "a2f86476-cdf8-4a1d-fc57-0ee1495f5c92"
      },
      "execution_count": null,
      "outputs": [
        {
          "output_type": "stream",
          "name": "stdout",
          "text": [
            "Mean_GB_Acc :  0.8717937911521794\n"
          ]
        }
      ]
    },
    {
      "cell_type": "code",
      "source": [
        ""
      ],
      "metadata": {
        "id": "y89r_wH9dlPL"
      },
      "execution_count": null,
      "outputs": []
    },
    {
      "cell_type": "markdown",
      "source": [
        "XGBoost Regressor"
      ],
      "metadata": {
        "id": "uy3z2JZxeBzT"
      }
    },
    {
      "cell_type": "code",
      "source": [
        "X1 = df.drop([\"Lon\",\"Lat\",\"PM2.5\"],axis='columns')\n",
        "y = df['PM2.5'].values"
      ],
      "metadata": {
        "id": "4MQGajK0eDpU"
      },
      "execution_count": null,
      "outputs": []
    },
    {
      "cell_type": "code",
      "source": [
        "from sklearn.model_selection import train_test_split\n",
        "X_train, X_test, y_train, y_test = train_test_split(X1, y, test_size=0.2)\n",
        "from xgboost import XGBRegressor\n",
        "from sklearn.model_selection import RandomizedSearchCV, GridSearchCV\n",
        "reg = XGBRegressor()"
      ],
      "metadata": {
        "id": "2_m10D3YfAGM"
      },
      "execution_count": null,
      "outputs": []
    },
    {
      "cell_type": "code",
      "source": [
        "params={\n",
        " \"learning_rate\"    : [0.05, 0.10, 0.15, 0.20, 0.25, 0.30 ] ,\n",
        " \"max_depth\"        : [ 3, 4, 5, 6, 8, 10, 12, 15],\n",
        " \"min_child_weight\" : [ 1, 3, 5, 7 ],\n",
        " \"gamma\"            : [ 0.0, 0.1, 0.2 , 0.3, 0.4 ],\n",
        " \"colsample_bytree\" : [ 0.3, 0.4, 0.5 , 0.7 ],\n",
        " #\"min_child_weight\": [4,5], \n",
        " #\"eta\"             : [i/10.0 for i in range(3,6)]   \n",
        "}"
      ],
      "metadata": {
        "id": "pR8c6jspffk2"
      },
      "execution_count": null,
      "outputs": []
    },
    {
      "cell_type": "code",
      "source": [
        "n_iter_search = 100\n",
        "random_search=RandomizedSearchCV(reg,param_distributions=params,n_iter=n_iter_search,scoring='roc_auc',n_jobs=-1,cv=5,verbose=3)\n",
        "#random_search.fit(X_train,y_train)"
      ],
      "metadata": {
        "id": "vUXgmoqRmc6H"
      },
      "execution_count": null,
      "outputs": []
    },
    {
      "cell_type": "code",
      "source": [
        "import time\n",
        "\n",
        "start = time.time()\n",
        "random_search.fit(X_train,y_train)\n",
        "print(\"RandomizedSearchCV took % seconds % candidates\"\n",
        "      \" parameter settings.\" % ((time.time() - start), n_iter_search))"
      ],
      "metadata": {
        "colab": {
          "base_uri": "https://localhost:8080/"
        },
        "id": "1_LqJWZklOLZ",
        "outputId": "524e9605-2132-43cb-bf1a-c5157719ed0a"
      },
      "execution_count": null,
      "outputs": [
        {
          "output_type": "stream",
          "name": "stdout",
          "text": [
            "Fitting 5 folds for each of 100 candidates, totalling 500 fits\n"
          ]
        },
        {
          "output_type": "stream",
          "name": "stderr",
          "text": [
            "/usr/local/lib/python3.7/dist-packages/sklearn/model_selection/_search.py:972: UserWarning: One or more of the test scores are non-finite: [nan nan nan nan nan nan nan nan nan nan nan nan nan nan nan nan nan nan\n",
            " nan nan nan nan nan nan nan nan nan nan nan nan nan nan nan nan nan nan\n",
            " nan nan nan nan nan nan nan nan nan nan nan nan nan nan nan nan nan nan\n",
            " nan nan nan nan nan nan nan nan nan nan nan nan nan nan nan nan nan nan\n",
            " nan nan nan nan nan nan nan nan nan nan nan nan nan nan nan nan nan nan\n",
            " nan nan nan nan nan nan nan nan nan nan]\n",
            "  category=UserWarning,\n"
          ]
        },
        {
          "output_type": "stream",
          "name": "stdout",
          "text": [
            "[11:36:49] WARNING: /workspace/src/objective/regression_obj.cu:152: reg:linear is now deprecated in favor of reg:squarederror.\n",
            "RandomizedSearchCV took 248.0644679069519econds dandidates parameter settings.\n"
          ]
        }
      ]
    },
    {
      "cell_type": "code",
      "source": [
        "best_regressor = random_search.best_estimator_\n",
        "random_search.best_params_"
      ],
      "metadata": {
        "colab": {
          "base_uri": "https://localhost:8080/"
        },
        "id": "8GR-kcLMkG6W",
        "outputId": "db9dcf24-5511-43db-fa68-40d06d674f82"
      },
      "execution_count": null,
      "outputs": [
        {
          "output_type": "execute_result",
          "data": {
            "text/plain": [
              "{'colsample_bytree': 0.7,\n",
              " 'gamma': 0.3,\n",
              " 'learning_rate': 0.25,\n",
              " 'max_depth': 15,\n",
              " 'min_child_weight': 7}"
            ]
          },
          "metadata": {},
          "execution_count": 139
        }
      ]
    },
    {
      "cell_type": "code",
      "source": [
        "y_pred_xg = best_regressor.predict(X_test)"
      ],
      "metadata": {
        "id": "rQNptvk6n7Gf"
      },
      "execution_count": null,
      "outputs": []
    },
    {
      "cell_type": "code",
      "source": [
        "from sklearn import metrics\n",
        "import numpy as np\n",
        "print('Mean Absolute Error:', metrics.mean_absolute_error(y_test, y_pred_xg))\n",
        "print('Mean Squared Error:', metrics.mean_squared_error(y_test, y_pred_xg))\n",
        "print('Root Mean Squared Error:', np.sqrt(metrics.mean_squared_error(y_test, y_pred_xg)))\n",
        "\n",
        "from sklearn.metrics import r2_score\n",
        "r2_score(y_test, y_pred_xg)"
      ],
      "metadata": {
        "colab": {
          "base_uri": "https://localhost:8080/"
        },
        "id": "WTJG8St9kVlq",
        "outputId": "ae7a31c0-31a3-4383-f740-070b4e5c8610"
      },
      "execution_count": null,
      "outputs": [
        {
          "output_type": "stream",
          "name": "stdout",
          "text": [
            "Mean Absolute Error: 0.21039655066469173\n",
            "Mean Squared Error: 2.3954958329561933\n",
            "Root Mean Squared Error: 1.5477389421204706\n"
          ]
        },
        {
          "output_type": "execute_result",
          "data": {
            "text/plain": [
              "0.9856560026773228"
            ]
          },
          "metadata": {},
          "execution_count": 141
        }
      ]
    },
    {
      "cell_type": "code",
      "source": [
        "from sklearn.model_selection import cross_val_score\n",
        "XG_accuracies = cross_val_score(estimator = reg, X = X_train, y = y_train, scoring='r2', cv = 10)\n",
        "print(\"Mean_XG_Acc : \", XG_accuracies.mean())"
      ],
      "metadata": {
        "colab": {
          "base_uri": "https://localhost:8080/"
        },
        "id": "Kk38mtabofOO",
        "outputId": "44a258fb-cc30-4ac9-f7f5-a4d68e0d7f0c"
      },
      "execution_count": null,
      "outputs": [
        {
          "output_type": "stream",
          "name": "stdout",
          "text": [
            "[11:39:49] WARNING: /workspace/src/objective/regression_obj.cu:152: reg:linear is now deprecated in favor of reg:squarederror.\n",
            "[11:39:50] WARNING: /workspace/src/objective/regression_obj.cu:152: reg:linear is now deprecated in favor of reg:squarederror.\n",
            "[11:39:50] WARNING: /workspace/src/objective/regression_obj.cu:152: reg:linear is now deprecated in favor of reg:squarederror.\n",
            "[11:39:51] WARNING: /workspace/src/objective/regression_obj.cu:152: reg:linear is now deprecated in favor of reg:squarederror.\n",
            "[11:39:51] WARNING: /workspace/src/objective/regression_obj.cu:152: reg:linear is now deprecated in favor of reg:squarederror.\n",
            "[11:39:51] WARNING: /workspace/src/objective/regression_obj.cu:152: reg:linear is now deprecated in favor of reg:squarederror.\n",
            "[11:39:52] WARNING: /workspace/src/objective/regression_obj.cu:152: reg:linear is now deprecated in favor of reg:squarederror.\n",
            "[11:39:52] WARNING: /workspace/src/objective/regression_obj.cu:152: reg:linear is now deprecated in favor of reg:squarederror.\n",
            "[11:39:53] WARNING: /workspace/src/objective/regression_obj.cu:152: reg:linear is now deprecated in favor of reg:squarederror.\n",
            "[11:39:53] WARNING: /workspace/src/objective/regression_obj.cu:152: reg:linear is now deprecated in favor of reg:squarederror.\n",
            "Mean_GB_Acc :  0.7430171956482968\n"
          ]
        }
      ]
    },
    {
      "cell_type": "code",
      "source": [
        "X_x= pd.DataFrame({\"Actual\": y_test, \"Predicted\": y_pred_xg})\n",
        "X_x"
      ],
      "metadata": {
        "id": "sQ7JN_lpok9C",
        "colab": {
          "base_uri": "https://localhost:8080/",
          "height": 423
        },
        "outputId": "60bbe325-789b-4d1c-dadd-68c5495fa3dd"
      },
      "execution_count": null,
      "outputs": [
        {
          "output_type": "execute_result",
          "data": {
            "text/html": [
              "\n",
              "  <div id=\"df-70c9b43f-2d2e-4336-a326-b414232904af\">\n",
              "    <div class=\"colab-df-container\">\n",
              "      <div>\n",
              "<style scoped>\n",
              "    .dataframe tbody tr th:only-of-type {\n",
              "        vertical-align: middle;\n",
              "    }\n",
              "\n",
              "    .dataframe tbody tr th {\n",
              "        vertical-align: top;\n",
              "    }\n",
              "\n",
              "    .dataframe thead th {\n",
              "        text-align: right;\n",
              "    }\n",
              "</style>\n",
              "<table border=\"1\" class=\"dataframe\">\n",
              "  <thead>\n",
              "    <tr style=\"text-align: right;\">\n",
              "      <th></th>\n",
              "      <th>Actual</th>\n",
              "      <th>Predicted</th>\n",
              "    </tr>\n",
              "  </thead>\n",
              "  <tbody>\n",
              "    <tr>\n",
              "      <th>0</th>\n",
              "      <td>21.778</td>\n",
              "      <td>21.761976</td>\n",
              "    </tr>\n",
              "    <tr>\n",
              "      <th>1</th>\n",
              "      <td>40.188</td>\n",
              "      <td>40.156120</td>\n",
              "    </tr>\n",
              "    <tr>\n",
              "      <th>2</th>\n",
              "      <td>16.842</td>\n",
              "      <td>16.897602</td>\n",
              "    </tr>\n",
              "    <tr>\n",
              "      <th>3</th>\n",
              "      <td>51.448</td>\n",
              "      <td>51.454800</td>\n",
              "    </tr>\n",
              "    <tr>\n",
              "      <th>4</th>\n",
              "      <td>27.146</td>\n",
              "      <td>27.085854</td>\n",
              "    </tr>\n",
              "    <tr>\n",
              "      <th>...</th>\n",
              "      <td>...</td>\n",
              "      <td>...</td>\n",
              "    </tr>\n",
              "    <tr>\n",
              "      <th>813</th>\n",
              "      <td>32.524</td>\n",
              "      <td>32.387894</td>\n",
              "    </tr>\n",
              "    <tr>\n",
              "      <th>814</th>\n",
              "      <td>19.447</td>\n",
              "      <td>19.442789</td>\n",
              "    </tr>\n",
              "    <tr>\n",
              "      <th>815</th>\n",
              "      <td>76.111</td>\n",
              "      <td>76.072899</td>\n",
              "    </tr>\n",
              "    <tr>\n",
              "      <th>816</th>\n",
              "      <td>47.444</td>\n",
              "      <td>47.404987</td>\n",
              "    </tr>\n",
              "    <tr>\n",
              "      <th>817</th>\n",
              "      <td>20.696</td>\n",
              "      <td>20.734070</td>\n",
              "    </tr>\n",
              "  </tbody>\n",
              "</table>\n",
              "<p>818 rows × 2 columns</p>\n",
              "</div>\n",
              "      <button class=\"colab-df-convert\" onclick=\"convertToInteractive('df-70c9b43f-2d2e-4336-a326-b414232904af')\"\n",
              "              title=\"Convert this dataframe to an interactive table.\"\n",
              "              style=\"display:none;\">\n",
              "        \n",
              "  <svg xmlns=\"http://www.w3.org/2000/svg\" height=\"24px\"viewBox=\"0 0 24 24\"\n",
              "       width=\"24px\">\n",
              "    <path d=\"M0 0h24v24H0V0z\" fill=\"none\"/>\n",
              "    <path d=\"M18.56 5.44l.94 2.06.94-2.06 2.06-.94-2.06-.94-.94-2.06-.94 2.06-2.06.94zm-11 1L8.5 8.5l.94-2.06 2.06-.94-2.06-.94L8.5 2.5l-.94 2.06-2.06.94zm10 10l.94 2.06.94-2.06 2.06-.94-2.06-.94-.94-2.06-.94 2.06-2.06.94z\"/><path d=\"M17.41 7.96l-1.37-1.37c-.4-.4-.92-.59-1.43-.59-.52 0-1.04.2-1.43.59L10.3 9.45l-7.72 7.72c-.78.78-.78 2.05 0 2.83L4 21.41c.39.39.9.59 1.41.59.51 0 1.02-.2 1.41-.59l7.78-7.78 2.81-2.81c.8-.78.8-2.07 0-2.86zM5.41 20L4 18.59l7.72-7.72 1.47 1.35L5.41 20z\"/>\n",
              "  </svg>\n",
              "      </button>\n",
              "      \n",
              "  <style>\n",
              "    .colab-df-container {\n",
              "      display:flex;\n",
              "      flex-wrap:wrap;\n",
              "      gap: 12px;\n",
              "    }\n",
              "\n",
              "    .colab-df-convert {\n",
              "      background-color: #E8F0FE;\n",
              "      border: none;\n",
              "      border-radius: 50%;\n",
              "      cursor: pointer;\n",
              "      display: none;\n",
              "      fill: #1967D2;\n",
              "      height: 32px;\n",
              "      padding: 0 0 0 0;\n",
              "      width: 32px;\n",
              "    }\n",
              "\n",
              "    .colab-df-convert:hover {\n",
              "      background-color: #E2EBFA;\n",
              "      box-shadow: 0px 1px 2px rgba(60, 64, 67, 0.3), 0px 1px 3px 1px rgba(60, 64, 67, 0.15);\n",
              "      fill: #174EA6;\n",
              "    }\n",
              "\n",
              "    [theme=dark] .colab-df-convert {\n",
              "      background-color: #3B4455;\n",
              "      fill: #D2E3FC;\n",
              "    }\n",
              "\n",
              "    [theme=dark] .colab-df-convert:hover {\n",
              "      background-color: #434B5C;\n",
              "      box-shadow: 0px 1px 3px 1px rgba(0, 0, 0, 0.15);\n",
              "      filter: drop-shadow(0px 1px 2px rgba(0, 0, 0, 0.3));\n",
              "      fill: #FFFFFF;\n",
              "    }\n",
              "  </style>\n",
              "\n",
              "      <script>\n",
              "        const buttonEl =\n",
              "          document.querySelector('#df-70c9b43f-2d2e-4336-a326-b414232904af button.colab-df-convert');\n",
              "        buttonEl.style.display =\n",
              "          google.colab.kernel.accessAllowed ? 'block' : 'none';\n",
              "\n",
              "        async function convertToInteractive(key) {\n",
              "          const element = document.querySelector('#df-70c9b43f-2d2e-4336-a326-b414232904af');\n",
              "          const dataTable =\n",
              "            await google.colab.kernel.invokeFunction('convertToInteractive',\n",
              "                                                     [key], {});\n",
              "          if (!dataTable) return;\n",
              "\n",
              "          const docLinkHtml = 'Like what you see? Visit the ' +\n",
              "            '<a target=\"_blank\" href=https://colab.research.google.com/notebooks/data_table.ipynb>data table notebook</a>'\n",
              "            + ' to learn more about interactive tables.';\n",
              "          element.innerHTML = '';\n",
              "          dataTable['output_type'] = 'display_data';\n",
              "          await google.colab.output.renderOutput(dataTable, element);\n",
              "          const docLink = document.createElement('div');\n",
              "          docLink.innerHTML = docLinkHtml;\n",
              "          element.appendChild(docLink);\n",
              "        }\n",
              "      </script>\n",
              "    </div>\n",
              "  </div>\n",
              "  "
            ],
            "text/plain": [
              "     Actual  Predicted\n",
              "0    21.778  21.761976\n",
              "1    40.188  40.156120\n",
              "2    16.842  16.897602\n",
              "3    51.448  51.454800\n",
              "4    27.146  27.085854\n",
              "..      ...        ...\n",
              "813  32.524  32.387894\n",
              "814  19.447  19.442789\n",
              "815  76.111  76.072899\n",
              "816  47.444  47.404987\n",
              "817  20.696  20.734070\n",
              "\n",
              "[818 rows x 2 columns]"
            ]
          },
          "metadata": {},
          "execution_count": 147
        }
      ]
    },
    {
      "cell_type": "code",
      "source": [
        "X_xg = X_x.copy()\n",
        "X_xg.to_csv('act_predxg.csv')\n",
        "!cp actual_predicted.csv \"drive/My Drive/\""
      ],
      "metadata": {
        "colab": {
          "base_uri": "https://localhost:8080/"
        },
        "id": "pk2QAmV__eqR",
        "outputId": "5ca7ab27-3aa4-43da-be68-9dc2f384d14d"
      },
      "execution_count": null,
      "outputs": [
        {
          "output_type": "stream",
          "name": "stdout",
          "text": [
            "cp: cannot stat 'actual_predicted.csv': No such file or directory\n"
          ]
        }
      ]
    },
    {
      "cell_type": "code",
      "source": [
        ""
      ],
      "metadata": {
        "id": "tZupOnFg_t2h"
      },
      "execution_count": null,
      "outputs": []
    },
    {
      "cell_type": "markdown",
      "source": [
        "KNN"
      ],
      "metadata": {
        "id": "DJlp-esNePpt"
      }
    },
    {
      "cell_type": "code",
      "source": [
        "X1 = df.drop([\"Lon\",\"Lat\",\"PM2.5\"],axis='columns')\n",
        "y = df['PM2.5'].values"
      ],
      "metadata": {
        "id": "C_glWp5ieQna"
      },
      "execution_count": null,
      "outputs": []
    },
    {
      "cell_type": "code",
      "source": [
        "from sklearn.model_selection import train_test_split\n",
        "X_train, X_test, y_train, y_test = train_test_split(X1, y, test_size=0.2)"
      ],
      "metadata": {
        "id": "csKWmT7Uil1q"
      },
      "execution_count": null,
      "outputs": []
    },
    {
      "cell_type": "code",
      "source": [
        "from sklearn.neighbors import KNeighborsRegressor\n",
        "score = []\n",
        "for k in range(1,20):   # running for different K values to know which yields the max accuracy. \n",
        "    knn = KNeighborsRegressor(n_neighbors = k,  weights = 'distance', p=1)\n",
        "    knn.fit(X_train, y_train)\n",
        "    score.append(knn.score(X_test, y_test ))   "
      ],
      "metadata": {
        "id": "UzP-RCRci7AB"
      },
      "execution_count": null,
      "outputs": []
    },
    {
      "cell_type": "code",
      "source": [
        "k_max = score.index(max(score))+1\n",
        "print( \"At K = {}, Max Accuracy = {}\".format(k_max, max(score)*100))"
      ],
      "metadata": {
        "colab": {
          "base_uri": "https://localhost:8080/"
        },
        "id": "7dTkhki_qwZ6",
        "outputId": "6081281f-daaa-468b-c859-72112d411881"
      },
      "execution_count": null,
      "outputs": [
        {
          "output_type": "stream",
          "name": "stdout",
          "text": [
            "At K = 19, Max Accuracy = 98.57029256725399\n"
          ]
        }
      ]
    },
    {
      "cell_type": "code",
      "source": [
        "knn = KNeighborsRegressor(n_neighbors = k_max,  weights = 'distance', p=1)\n",
        "knn.fit(X_train, y_train)\n",
        "print(knn.score(X_test, y_test ))   \n",
        "y_pred_knn = knn.predict(X_test)"
      ],
      "metadata": {
        "colab": {
          "base_uri": "https://localhost:8080/"
        },
        "id": "yxomJet6jT8-",
        "outputId": "37952d1d-95d4-4dce-e2cb-9d2f78794998"
      },
      "execution_count": null,
      "outputs": [
        {
          "output_type": "stream",
          "name": "stdout",
          "text": [
            "0.9857029256725399\n"
          ]
        }
      ]
    },
    {
      "cell_type": "code",
      "source": [
        "_ = plt.plot(y_pred_knn)"
      ],
      "metadata": {
        "colab": {
          "base_uri": "https://localhost:8080/",
          "height": 265
        },
        "id": "Wd1xnRS4jpBi",
        "outputId": "27278998-96f2-4dc7-eb02-1ccecb33f26a"
      },
      "execution_count": null,
      "outputs": [
        {
          "output_type": "display_data",
          "data": {
            "image/png": "[encoded data removed]",
            "text/plain": [
              "<Figure size 432x288 with 1 Axes>"
            ]
          },
          "metadata": {
            "needs_background": "light"
          }
        }
      ]
    },
    {
      "cell_type": "code",
      "source": [
        "from sklearn import metrics\n",
        "import numpy as np\n",
        "print('Mean Absolute Error:', metrics.mean_absolute_error(y_test, y_pred_knn))\n",
        "print('Mean Squared Error:', metrics.mean_squared_error(y_test, y_pred_knn))\n",
        "print('Root Mean Squared Error:', np.sqrt(metrics.mean_squared_error(y_test, y_pred_knn)))\n",
        "\n",
        "from sklearn.metrics import r2_score\n",
        "r2_score(y_test, y_pred_knn)"
      ],
      "metadata": {
        "colab": {
          "base_uri": "https://localhost:8080/"
        },
        "id": "WZqTBzSvkNGb",
        "outputId": "af94d460-b042-4922-87df-1b6eff626235"
      },
      "execution_count": null,
      "outputs": [
        {
          "output_type": "stream",
          "name": "stdout",
          "text": [
            "Mean Absolute Error: 0.23527230527664433\n",
            "Mean Squared Error: 2.380155694540459\n",
            "Root Mean Squared Error: 1.5427753221193483\n"
          ]
        },
        {
          "output_type": "execute_result",
          "data": {
            "text/plain": [
              "0.9857029256725399"
            ]
          },
          "metadata": {},
          "execution_count": 43
        }
      ]
    },
    {
      "cell_type": "code",
      "source": [
        "X_kn= pd.DataFrame({\"Actual\": y_test, \"Predicted\": y_pred_knn})\n",
        "X_kn"
      ],
      "metadata": {
        "colab": {
          "base_uri": "https://localhost:8080/",
          "height": 423
        },
        "id": "oWJ1GoAclXLd",
        "outputId": "ced927f2-fc08-4a29-d54d-6e52b799afd5"
      },
      "execution_count": null,
      "outputs": [
        {
          "output_type": "execute_result",
          "data": {
            "text/html": [
              "\n",
              "  <div id=\"df-7d44a57c-d1e7-4bbd-b7c7-8a70da0a73fb\">\n",
              "    <div class=\"colab-df-container\">\n",
              "      <div>\n",
              "<style scoped>\n",
              "    .dataframe tbody tr th:only-of-type {\n",
              "        vertical-align: middle;\n",
              "    }\n",
              "\n",
              "    .dataframe tbody tr th {\n",
              "        vertical-align: top;\n",
              "    }\n",
              "\n",
              "    .dataframe thead th {\n",
              "        text-align: right;\n",
              "    }\n",
              "</style>\n",
              "<table border=\"1\" class=\"dataframe\">\n",
              "  <thead>\n",
              "    <tr style=\"text-align: right;\">\n",
              "      <th></th>\n",
              "      <th>Actual</th>\n",
              "      <th>Predicted</th>\n",
              "    </tr>\n",
              "  </thead>\n",
              "  <tbody>\n",
              "    <tr>\n",
              "      <th>0</th>\n",
              "      <td>33.266</td>\n",
              "      <td>33.2660</td>\n",
              "    </tr>\n",
              "    <tr>\n",
              "      <th>1</th>\n",
              "      <td>21.899</td>\n",
              "      <td>21.8990</td>\n",
              "    </tr>\n",
              "    <tr>\n",
              "      <th>2</th>\n",
              "      <td>22.765</td>\n",
              "      <td>22.7663</td>\n",
              "    </tr>\n",
              "    <tr>\n",
              "      <th>3</th>\n",
              "      <td>29.351</td>\n",
              "      <td>29.3510</td>\n",
              "    </tr>\n",
              "    <tr>\n",
              "      <th>4</th>\n",
              "      <td>35.129</td>\n",
              "      <td>35.1290</td>\n",
              "    </tr>\n",
              "    <tr>\n",
              "      <th>...</th>\n",
              "      <td>...</td>\n",
              "      <td>...</td>\n",
              "    </tr>\n",
              "    <tr>\n",
              "      <th>813</th>\n",
              "      <td>34.808</td>\n",
              "      <td>34.8080</td>\n",
              "    </tr>\n",
              "    <tr>\n",
              "      <th>814</th>\n",
              "      <td>17.010</td>\n",
              "      <td>17.0100</td>\n",
              "    </tr>\n",
              "    <tr>\n",
              "      <th>815</th>\n",
              "      <td>30.118</td>\n",
              "      <td>30.1180</td>\n",
              "    </tr>\n",
              "    <tr>\n",
              "      <th>816</th>\n",
              "      <td>20.556</td>\n",
              "      <td>20.5560</td>\n",
              "    </tr>\n",
              "    <tr>\n",
              "      <th>817</th>\n",
              "      <td>38.260</td>\n",
              "      <td>38.2600</td>\n",
              "    </tr>\n",
              "  </tbody>\n",
              "</table>\n",
              "<p>818 rows × 2 columns</p>\n",
              "</div>\n",
              "      <button class=\"colab-df-convert\" onclick=\"convertToInteractive('df-7d44a57c-d1e7-4bbd-b7c7-8a70da0a73fb')\"\n",
              "              title=\"Convert this dataframe to an interactive table.\"\n",
              "              style=\"display:none;\">\n",
              "        \n",
              "  <svg xmlns=\"http://www.w3.org/2000/svg\" height=\"24px\"viewBox=\"0 0 24 24\"\n",
              "       width=\"24px\">\n",
              "    <path d=\"M0 0h24v24H0V0z\" fill=\"none\"/>\n",
              "    <path d=\"M18.56 5.44l.94 2.06.94-2.06 2.06-.94-2.06-.94-.94-2.06-.94 2.06-2.06.94zm-11 1L8.5 8.5l.94-2.06 2.06-.94-2.06-.94L8.5 2.5l-.94 2.06-2.06.94zm10 10l.94 2.06.94-2.06 2.06-.94-2.06-.94-.94-2.06-.94 2.06-2.06.94z\"/><path d=\"M17.41 7.96l-1.37-1.37c-.4-.4-.92-.59-1.43-.59-.52 0-1.04.2-1.43.59L10.3 9.45l-7.72 7.72c-.78.78-.78 2.05 0 2.83L4 21.41c.39.39.9.59 1.41.59.51 0 1.02-.2 1.41-.59l7.78-7.78 2.81-2.81c.8-.78.8-2.07 0-2.86zM5.41 20L4 18.59l7.72-7.72 1.47 1.35L5.41 20z\"/>\n",
              "  </svg>\n",
              "      </button>\n",
              "      \n",
              "  <style>\n",
              "    .colab-df-container {\n",
              "      display:flex;\n",
              "      flex-wrap:wrap;\n",
              "      gap: 12px;\n",
              "    }\n",
              "\n",
              "    .colab-df-convert {\n",
              "      background-color: #E8F0FE;\n",
              "      border: none;\n",
              "      border-radius: 50%;\n",
              "      cursor: pointer;\n",
              "      display: none;\n",
              "      fill: #1967D2;\n",
              "      height: 32px;\n",
              "      padding: 0 0 0 0;\n",
              "      width: 32px;\n",
              "    }\n",
              "\n",
              "    .colab-df-convert:hover {\n",
              "      background-color: #E2EBFA;\n",
              "      box-shadow: 0px 1px 2px rgba(60, 64, 67, 0.3), 0px 1px 3px 1px rgba(60, 64, 67, 0.15);\n",
              "      fill: #174EA6;\n",
              "    }\n",
              "\n",
              "    [theme=dark] .colab-df-convert {\n",
              "      background-color: #3B4455;\n",
              "      fill: #D2E3FC;\n",
              "    }\n",
              "\n",
              "    [theme=dark] .colab-df-convert:hover {\n",
              "      background-color: #434B5C;\n",
              "      box-shadow: 0px 1px 3px 1px rgba(0, 0, 0, 0.15);\n",
              "      filter: drop-shadow(0px 1px 2px rgba(0, 0, 0, 0.3));\n",
              "      fill: #FFFFFF;\n",
              "    }\n",
              "  </style>\n",
              "\n",
              "      <script>\n",
              "        const buttonEl =\n",
              "          document.querySelector('#df-7d44a57c-d1e7-4bbd-b7c7-8a70da0a73fb button.colab-df-convert');\n",
              "        buttonEl.style.display =\n",
              "          google.colab.kernel.accessAllowed ? 'block' : 'none';\n",
              "\n",
              "        async function convertToInteractive(key) {\n",
              "          const element = document.querySelector('#df-7d44a57c-d1e7-4bbd-b7c7-8a70da0a73fb');\n",
              "          const dataTable =\n",
              "            await google.colab.kernel.invokeFunction('convertToInteractive',\n",
              "                                                     [key], {});\n",
              "          if (!dataTable) return;\n",
              "\n",
              "          const docLinkHtml = 'Like what you see? Visit the ' +\n",
              "            '<a target=\"_blank\" href=https://colab.research.google.com/notebooks/data_table.ipynb>data table notebook</a>'\n",
              "            + ' to learn more about interactive tables.';\n",
              "          element.innerHTML = '';\n",
              "          dataTable['output_type'] = 'display_data';\n",
              "          await google.colab.output.renderOutput(dataTable, element);\n",
              "          const docLink = document.createElement('div');\n",
              "          docLink.innerHTML = docLinkHtml;\n",
              "          element.appendChild(docLink);\n",
              "        }\n",
              "      </script>\n",
              "    </div>\n",
              "  </div>\n",
              "  "
            ],
            "text/plain": [
              "     Actual  Predicted\n",
              "0    33.266    33.2660\n",
              "1    21.899    21.8990\n",
              "2    22.765    22.7663\n",
              "3    29.351    29.3510\n",
              "4    35.129    35.1290\n",
              "..      ...        ...\n",
              "813  34.808    34.8080\n",
              "814  17.010    17.0100\n",
              "815  30.118    30.1180\n",
              "816  20.556    20.5560\n",
              "817  38.260    38.2600\n",
              "\n",
              "[818 rows x 2 columns]"
            ]
          },
          "metadata": {},
          "execution_count": 44
        }
      ]
    },
    {
      "cell_type": "code",
      "source": [
        "X_knn = X_kn.copy()\n",
        "X_knn.to_csv('act_predknn.csv')\n",
        "!cp actual_predicted.csv \"drive/My Drive/\""
      ],
      "metadata": {
        "id": "0Eul9pfYlm30"
      },
      "execution_count": null,
      "outputs": []
    },
    {
      "cell_type": "code",
      "source": [
        "from sklearn.model_selection import cross_val_score\n",
        "knn_accuracies = cross_val_score(estimator = knn, X = X_train, y = y_train, scoring = 'r2', cv = 10)\n",
        "print(\"Mean_KNN_Acc : \", knn_accuracies.mean())"
      ],
      "metadata": {
        "colab": {
          "base_uri": "https://localhost:8080/"
        },
        "id": "wU1sw6z0kcZQ",
        "outputId": "08789b4a-dedc-4458-e20b-f51beca7b647"
      },
      "execution_count": null,
      "outputs": [
        {
          "output_type": "stream",
          "name": "stdout",
          "text": [
            "Mean_KNN_Acc :  0.975611819192993\n"
          ]
        }
      ]
    },
    {
      "cell_type": "code",
      "source": [
        ""
      ],
      "metadata": {
        "id": "zsObtxnpBgIF"
      },
      "execution_count": null,
      "outputs": []
    }
  ]
}